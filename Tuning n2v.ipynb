{
 "cells": [
  {
   "cell_type": "markdown",
   "metadata": {
    "toc": true
   },
   "source": [
    "<h1>Table of Contents<span class=\"tocSkip\"></span></h1>\n",
    "<div class=\"toc\"><ul class=\"toc-item\"></ul></div>"
   ]
  },
  {
   "cell_type": "code",
   "execution_count": 1,
   "metadata": {},
   "outputs": [],
   "source": [
    "import networkx as nx\n",
    "import pandas as pd\n",
    "import matplotlib.pyplot as plt\n",
    "import numpy as np\n",
    "from gen_n2v import getNode2Vec\n",
    "import itertools\n",
    "import os\n",
    "import multiprocessing as mp\n",
    "from sklearn.model_selection import train_test_split\n",
    "from sklearn.preprocessing import MinMaxScaler\n",
    "from sklearn.linear_model import LogisticRegression\n",
    "from sklearn.ensemble import RandomForestClassifier\n",
    "from sklearn.preprocessing import StandardScaler\n",
    "from sklearn.metrics import confusion_matrix, classification_report, roc_auc_score\n",
    "from IPython.core.interactiveshell import InteractiveShell\n",
    "InteractiveShell.ast_node_interactivity = \"all\""
   ]
  },
  {
   "cell_type": "code",
   "execution_count": 2,
   "metadata": {},
   "outputs": [],
   "source": [
    "n_walks = [10, 50, 100]\n",
    "l_walk = [5, 20, 60]\n",
    "dim = [8, 16, 64]\n",
    "q = [0.1, 0.4, 0.8]\n",
    "comb = [q, n_walks, l_walk, dim]\n",
    "comb = list(itertools.product(*comb))"
   ]
  },
  {
   "cell_type": "code",
   "execution_count": 3,
   "metadata": {},
   "outputs": [],
   "source": [
    "def calc(option, i):\n",
    "    getter = getNode2Vec(path='./data/Caltech36/Caltech36',\n",
    "                         q=option[0],\n",
    "                         num_walks=option[1],\n",
    "                         walk_length=option[2],\n",
    "                         dim=option[3])\n",
    "    getter.get_n2v(_id=i)"
   ]
  },
  {
   "cell_type": "code",
   "execution_count": 4,
   "metadata": {},
   "outputs": [],
   "source": [
    "def get_dirs(path):\n",
    "    dirs = []\n",
    "    return [i for i in os.listdir(path)]\n",
    "\n",
    "\n",
    "\n",
    "def get_data(name,sep=','):\n",
    "    df = pd.DataFrame()\n",
    "    for x in get_dirs():\n",
    "        path = \"./data/{}/{}{}\".format(x, x, name)\n",
    "        temp = pd.read_csv(path,sep=sep)\n",
    "        df = df.append(temp)\n",
    "    return df"
   ]
  },
  {
   "cell_type": "code",
   "execution_count": 5,
   "metadata": {},
   "outputs": [],
   "source": [
    "path = './data/Caltech36/Caltech36comb/'\n",
    "def logreg(data,i):\n",
    "    score = []\n",
    "    for x in range(10):\n",
    "        X = data.iloc[:,:-1].values\n",
    "        y = data['label'].values\n",
    "        scaler = MinMaxScaler(feature_range=(0, 1))\n",
    "        scaler.fit(X)\n",
    "        X = scaler.transform(X)\n",
    "        X_train, X_test, y_train, y_test = train_test_split(X, y, test_size=0.2)\n",
    "        model = RandomForestClassifier().fit(X_train, y_train)\n",
    "        yhat = model.predict(X_test)\n",
    "        #print(confusion_matrix(y_test, yhat))\n",
    "\n",
    "        #print(classification_report(y_test, yhat))\n",
    "        #print(f'{i}::ROC_AUC_SCORE:',roc_auc_score(y_test, model.decision_function(X_test)))\n",
    "        score.append(roc_auc_score(y_test, model.predict_proba(X_test)[:, 1]))\n",
    "    return {\"id\":i,\"score\":np.mean(score)}"
   ]
  },
  {
   "cell_type": "code",
   "execution_count": 6,
   "metadata": {},
   "outputs": [
    {
     "data": {
      "text/plain": [
       "[{'id': '24emb.csv', 'score': 0.8779039544587771},\n",
       " {'id': '68emb.csv', 'score': 0.8705710630591886},\n",
       " {'id': '8emb.csv', 'score': 0.8695739063243675},\n",
       " {'id': '62emb.csv', 'score': 0.8678714732044934},\n",
       " {'id': '35emb.csv', 'score': 0.8642819191161069},\n",
       " {'id': '61emb.csv', 'score': 0.8634623557198571},\n",
       " {'id': '59emb.csv', 'score': 0.8584177055214488},\n",
       " {'id': '52emb.csv', 'score': 0.8583775432442089},\n",
       " {'id': '67emb.csv', 'score': 0.8583230494554309},\n",
       " {'id': '71emb.csv', 'score': 0.8581514555851563},\n",
       " {'id': '50emb.csv', 'score': 0.856687181824969},\n",
       " {'id': '20emb.csv', 'score': 0.8533177967894009},\n",
       " {'id': '32emb.csv', 'score': 0.8519704780703952},\n",
       " {'id': '21emb.csv', 'score': 0.8515719642124727},\n",
       " {'id': '60emb.csv', 'score': 0.8510525063508926},\n",
       " {'id': '49emb.csv', 'score': 0.849824126083865},\n",
       " {'id': '43emb.csv', 'score': 0.8493379355396096},\n",
       " {'id': '41emb.csv', 'score': 0.8478204727700385},\n",
       " {'id': '66emb.csv', 'score': 0.847253084037583},\n",
       " {'id': '7emb.csv', 'score': 0.8464749689834321},\n",
       " {'id': '78emb.csv', 'score': 0.846063844553141},\n",
       " {'id': '14emb.csv', 'score': 0.8456595569704},\n",
       " {'id': '64emb.csv', 'score': 0.8455814304183695},\n",
       " {'id': '22emb.csv', 'score': 0.8453473484571724},\n",
       " {'id': '6emb.csv', 'score': 0.8448350628319121},\n",
       " {'id': '76emb.csv', 'score': 0.8436492766208883},\n",
       " {'id': '12emb.csv', 'score': 0.8432840013928358},\n",
       " {'id': '40emb.csv', 'score': 0.8408107003648719},\n",
       " {'id': '77emb.csv', 'score': 0.8393931130898515},\n",
       " {'id': '74emb.csv', 'score': 0.8392494202632893},\n",
       " {'id': '19emb.csv', 'score': 0.8391048319603949},\n",
       " {'id': '11emb.csv', 'score': 0.8376618218534709},\n",
       " {'id': '44emb.csv', 'score': 0.8371979391741291},\n",
       " {'id': '33emb.csv', 'score': 0.8371226316068366},\n",
       " {'id': '25emb.csv', 'score': 0.836845004439666},\n",
       " {'id': '47emb.csv', 'score': 0.8367654410440026},\n",
       " {'id': '51emb.csv', 'score': 0.8366790471208165},\n",
       " {'id': '53emb.csv', 'score': 0.836001670424311},\n",
       " {'id': '10emb.csv', 'score': 0.8358762096687524},\n",
       " {'id': '58emb.csv', 'score': 0.8348659593953369},\n",
       " {'id': '4emb.csv', 'score': 0.8346046139570916},\n",
       " {'id': '34emb.csv', 'score': 0.8345000402298114},\n",
       " {'id': '65emb.csv', 'score': 0.8343735829156221},\n",
       " {'id': '23emb.csv', 'score': 0.8336893768116779},\n",
       " {'id': '80emb.csv', 'score': 0.8327393065805179},\n",
       " {'id': '72emb.csv', 'score': 0.832633285228745},\n",
       " {'id': '75emb.csv', 'score': 0.832616119885454},\n",
       " {'id': '15emb.csv', 'score': 0.8312863766430049},\n",
       " {'id': '5emb.csv', 'score': 0.8308974657524851},\n",
       " {'id': '13emb.csv', 'score': 0.8302925259469752},\n",
       " {'id': '38emb.csv', 'score': 0.8272990171011969},\n",
       " {'id': '16emb.csv', 'score': 0.8268961947856921},\n",
       " {'id': '37emb.csv', 'score': 0.8268001609495844},\n",
       " {'id': '46emb.csv', 'score': 0.8262136550473409},\n",
       " {'id': '26emb.csv', 'score': 0.8249503651809544},\n",
       " {'id': '48emb.csv', 'score': 0.824089800508335},\n",
       " {'id': '57emb.csv', 'score': 0.8237161878947962},\n",
       " {'id': '17emb.csv', 'score': 0.8235627612289532},\n",
       " {'id': '18emb.csv', 'score': 0.8194132770028328},\n",
       " {'id': '36emb.csv', 'score': 0.8183361233123778},\n",
       " {'id': '31emb.csv', 'score': 0.8161994124416042},\n",
       " {'id': '45emb.csv', 'score': 0.8158852209118083},\n",
       " {'id': '42emb.csv', 'score': 0.8152667412141887},\n",
       " {'id': '70emb.csv', 'score': 0.8133571777068782},\n",
       " {'id': '63emb.csv', 'score': 0.8107194626391789},\n",
       " {'id': '79emb.csv', 'score': 0.810432816883797},\n",
       " {'id': '69emb.csv', 'score': 0.8006815324960941},\n",
       " {'id': '73emb.csv', 'score': 0.7980912437278362},\n",
       " {'id': '39emb.csv', 'score': 0.7970059447446991},\n",
       " {'id': '3emb.csv', 'score': 0.7940173264523132},\n",
       " {'id': '9emb.csv', 'score': 0.7849389458005134},\n",
       " {'id': '30emb.csv', 'score': 0.7740941947447958},\n",
       " {'id': '2emb.csv', 'score': 0.757546166067177},\n",
       " {'id': '29emb.csv', 'score': 0.7487417213123486},\n",
       " {'id': '55emb.csv', 'score': 0.7486783864729712},\n",
       " {'id': '1emb.csv', 'score': 0.7467311007924134},\n",
       " {'id': '27emb.csv', 'score': 0.7454486671579226},\n",
       " {'id': '54emb.csv', 'score': 0.7446814645365449},\n",
       " {'id': '56emb.csv', 'score': 0.7410130348934192},\n",
       " {'id': '0emb.csv', 'score': 0.7398230388970156},\n",
       " {'id': '28emb.csv', 'score': 0.7278512374425178}]"
      ]
     },
     "execution_count": 6,
     "metadata": {},
     "output_type": "execute_result"
    }
   ],
   "source": [
    "res = []\n",
    "for i,file in enumerate(get_dirs(path)):\n",
    "    data = pd.read_csv(path + file, sep=',')\n",
    "    res.append(logreg(data,file))\n",
    "sorted(res, key=lambda k: k['score'],reverse=True) "
   ]
  },
  {
   "cell_type": "code",
   "execution_count": null,
   "metadata": {},
   "outputs": [],
   "source": []
  }
 ],
 "metadata": {
  "kernelspec": {
   "display_name": "Python [conda env:link-env] *",
   "language": "python",
   "name": "conda-env-link-env-py"
  },
  "language_info": {
   "codemirror_mode": {
    "name": "ipython",
    "version": 3
   },
   "file_extension": ".py",
   "mimetype": "text/x-python",
   "name": "python",
   "nbconvert_exporter": "python",
   "pygments_lexer": "ipython3",
   "version": "3.7.7"
  },
  "toc": {
   "base_numbering": 1,
   "nav_menu": {},
   "number_sections": true,
   "sideBar": true,
   "skip_h1_title": false,
   "title_cell": "Table of Contents",
   "title_sidebar": "Contents",
   "toc_cell": true,
   "toc_position": {},
   "toc_section_display": true,
   "toc_window_display": false
  }
 },
 "nbformat": 4,
 "nbformat_minor": 4
}
