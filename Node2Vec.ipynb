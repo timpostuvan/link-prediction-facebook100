{
 "cells": [
  {
   "cell_type": "markdown",
   "metadata": {
    "toc": true
   },
   "source": [
    "<h1>Table of Contents<span class=\"tocSkip\"></span></h1>\n",
    "<div class=\"toc\"><ul class=\"toc-item\"></ul></div>"
   ]
  },
  {
   "cell_type": "code",
   "execution_count": 60,
   "metadata": {},
   "outputs": [],
   "source": [
    "import networkx as nx\n",
    "import pandas as pd\n",
    "import numpy as np\n",
    "from node2vec import Node2Vec\n",
    "from node2vec.edges import HadamardEmbedder\n",
    "import os\n",
    "import multiprocessing as mp\n",
    "import warnings\n",
    "from sklearn.model_selection import train_test_split\n",
    "warnings.filterwarnings(\"ignore\", message=\"numpy.dtype size changed\")"
   ]
  },
  {
   "cell_type": "code",
   "execution_count": 61,
   "metadata": {},
   "outputs": [],
   "source": [
    "class getNode2Vec:\n",
    "    def __init__(self, path, dim, num_walks, q, walk_length):\n",
    "        self.G = nx.Graph(nx.read_pajek(path + '.net'), nodetype=int)\n",
    "        raw_data = pd.read_csv(path + '.raw_data', sep='\\t')\n",
    "        self.pos_e = raw_data[raw_data['label'] == 1][['from_id',\n",
    "                                                       'to_id']].values\n",
    "        self.e = raw_data[['from_id', 'to_id']].values\n",
    "        self.nodes = raw_data[['from_id', 'to_id']]\n",
    "        self.labels = raw_data[['label']]\n",
    "        self.dim = dim\n",
    "        self.path = path\n",
    "        self.num_walks = num_walks\n",
    "        self.q = q\n",
    "        self.walk_length = walk_length\n",
    "\n",
    "    def remove_edges(self):\n",
    "        for val in self.pos_e:\n",
    "            self.G.remove_edge(str(val[0]), str(val[1]))\n",
    "\n",
    "    def gen_node2vec(self):\n",
    "        # Remove positive edges from graph:\n",
    "        self.remove_edges()\n",
    "        node2vec = Node2Vec(\n",
    "            self.G,\n",
    "            dimensions=self.dim,  #lower dim\n",
    "            walk_length=self.walk_length,  #shorter walk than 100\n",
    "            num_walks=self.num_walks,  # bigger number than 10\n",
    "            workers=5,\n",
    "            p=1,  #p = 1\n",
    "            q=self.q,  #q < 1\n",
    "            temp_folder='./temp/')  # Use temp_folder for big graphs\n",
    "        # Embed nodes\n",
    "        n2v_df = pd.DataFrame()\n",
    "        model = node2vec.fit()  #Use over gensim word2vec\n",
    "        edges_embs = HadamardEmbedder(keyed_vectors=model.wv)\n",
    "        # Edges:\n",
    "        for e in self.e:\n",
    "            v = edges_embs[(str(e[0]), str(e[1]))]\n",
    "            res = dict(('d' + str(i), el) for i, el in enumerate(v))\n",
    "            n2v_df = n2v_df.append(res, ignore_index=True)\n",
    "\n",
    "        return pd.concat([self.nodes, n2v_df, self.labels], axis=1)\n",
    "\n",
    "    def get_n2v(self):\n",
    "        data = gen_node2vec()\n",
    "        data.to_csv(self.path + 'emb.csv')"
   ]
  },
  {
   "cell_type": "code",
   "execution_count": 65,
   "metadata": {},
   "outputs": [],
   "source": [
    "def main():\n",
    "    #get all dirs in data folder and parse every network there\n",
    "    dirs = [_dir  for _dir in os.listdir('./data/') if os.path.isdir(\"./data/{}\".format(_dir)) ]\n",
    "    for x in dirs:\n",
    "        print(x)\n",
    "\n",
    "    def ww(p):\n",
    "        #Configuration id=68\n",
    "        m = getNode2Vec(p, dim=64, num_walks=50, q=0.8, walk_length=20)\n",
    "        emb_model = m.gen_node2vec()\n",
    "        emb_model.to_csv(p + 'emb.csv.gz', compression='gzip', index=False)\n",
    "        print('FINISHED WITH:', p)\n",
    "\n",
    "    proc = []\n",
    "    for net in dirs:\n",
    "        path = \"./data/{}/{}\".format(net, net)\n",
    "        p = mp.Process(target=ww, args=(path, ))\n",
    "        p.start()\n",
    "        proc.append(p)\n",
    "    for p in proc:\n",
    "        p.join()"
   ]
  },
  {
   "cell_type": "code",
   "execution_count": 66,
   "metadata": {},
   "outputs": [],
   "source": [
    "def merge_data():\n",
    "    dirs = [\n",
    "        _dir for _dir in os.listdir('./data/')\n",
    "        if os.path.isdir(\"./data/{}\".format(_dir))\n",
    "    ]\n",
    "    for x in dirs:\n",
    "        print(x)\n",
    "    networks_data = []\n",
    "    for net in dirs:\n",
    "        path = \"./data/{}/{}\".format(net, net)\n",
    "        data = pd.read_csv(path + 'emb.csv.gz', compression='gzip', sep=',')\n",
    "        raw_data = pd.read_csv(path + '.raw_data', sep='\\t')\n",
    "        raw_data = raw_data[[\n",
    "            \"is_dorm\", \"is_year\", \"year_diff\", \"from_high_school\",\n",
    "            \"to_high_school\", \"from_major\", \"to_major\", \"is_faculty\",\n",
    "            \"is_gender\"\n",
    "        ]]\n",
    "        data = pd.concat([raw_data,data],axis = 1)\n",
    "        networks_data.append(data)\n",
    "\n",
    "    networks_data = pd.concat(networks_data, axis=0)\n",
    "    \n",
    "    networks_data = networks_data.drop(columns=['from_id', 'to_id'])\n",
    "\n",
    "    train, test = train_test_split(networks_data, test_size=0.25)\n",
    "    train.to_csv('./data/node2vec_v2_train.csv.gz',compression='gzip',sep='\\t')\n",
    "    test.to_csv('./data/node2vec_v2_test.csv.gz',compression='gzip',sep='\\t')\n",
    "    print('Train:',train.info())\n",
    "    print('Test:',test.info())"
   ]
  },
  {
   "cell_type": "code",
   "execution_count": 67,
   "metadata": {},
   "outputs": [
    {
     "name": "stdout",
     "output_type": "stream",
     "text": [
      "main\n"
     ]
    }
   ],
   "source": [
    "if __name__ == \"__main__\":\n",
    "    #main()\n",
    "    print('main')\n",
    "    #merge_data()"
   ]
  },
  {
   "cell_type": "code",
   "execution_count": null,
   "metadata": {},
   "outputs": [],
   "source": []
  },
  {
   "cell_type": "code",
   "execution_count": null,
   "metadata": {},
   "outputs": [],
   "source": []
  }
 ],
 "metadata": {
  "kernelspec": {
   "display_name": "Python [conda env:link-env] *",
   "language": "python",
   "name": "conda-env-link-env-py"
  },
  "language_info": {
   "codemirror_mode": {
    "name": "ipython",
    "version": 3
   },
   "file_extension": ".py",
   "mimetype": "text/x-python",
   "name": "python",
   "nbconvert_exporter": "python",
   "pygments_lexer": "ipython3",
   "version": "3.7.7"
  },
  "toc": {
   "base_numbering": 1,
   "nav_menu": {},
   "number_sections": true,
   "sideBar": true,
   "skip_h1_title": false,
   "title_cell": "Table of Contents",
   "title_sidebar": "Contents",
   "toc_cell": true,
   "toc_position": {},
   "toc_section_display": true,
   "toc_window_display": true
  }
 },
 "nbformat": 4,
 "nbformat_minor": 4
}
