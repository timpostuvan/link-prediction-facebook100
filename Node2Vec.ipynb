{
 "cells": [
  {
   "cell_type": "markdown",
   "metadata": {
    "toc": true
   },
   "source": [
    "<h1>Table of Contents<span class=\"tocSkip\"></span></h1>\n",
    "<div class=\"toc\"><ul class=\"toc-item\"></ul></div>"
   ]
  },
  {
   "cell_type": "code",
   "execution_count": null,
   "metadata": {},
   "outputs": [],
   "source": [
    "import networkx as nx\n",
    "import pandas as pd\n",
    "import matplotlib.pyplot as plt\n",
    "import numpy as np\n",
    "from node2vec import Node2Vec\n",
    "from node2vec.edges import HadamardEmbedder\n",
    "from sklearn.model_selection import train_test_split\n",
    "from sklearn.preprocessing import normalize\n",
    "from sklearn.linear_model import LogisticRegression\n",
    "from sklearn.ensemble import RandomForestClassifier\n",
    "from sklearn.metrics import confusion_matrix,classification_report,roc_auc_score\n",
    "from sklearn.neural_network import MLPClassifier\n",
    "from sklearn.preprocessing import StandardScaler\n",
    "from sklearn import decomposition, datasets\n",
    "from sklearn.manifold import TSNE\n",
    "import os\n",
    "import multiprocessing as mp\n",
    "import warnings\n",
    "warnings.filterwarnings(\"ignore\", message=\"numpy.dtype size changed\")"
   ]
  },
  {
   "cell_type": "code",
   "execution_count": null,
   "metadata": {},
   "outputs": [],
   "source": [
    "class getNode2Vec:\n",
    "    def __init__(self, path,dim):\n",
    "        self.G = nx.Graph(nx.read_pajek(path + '.net'), nodetype=int)\n",
    "        raw_data = pd.read_csv(path + '.raw_data', sep='\\t')\n",
    "        self.pos_e = raw_data[raw_data['label']==1][['from_id','to_id']].values\n",
    "        self.e = raw_data[['from_id','to_id']].values\n",
    "        self.labels = raw_data[['label']]\n",
    "        self.dim = dim\n",
    "\n",
    "    def remove_edges(self):\n",
    "        for val in self.pos_e:\n",
    "            self.G.remove_edge(str(val[0]), str(val[1]))\n",
    "\n",
    "    def gen_node2vec(self):\n",
    "        # Remove positive edges from graph:\n",
    "        self.remove_edges()\n",
    "        node2vec = Node2Vec(self.G,\n",
    "                            dimensions=self.dim,\n",
    "                            walk_length=100,\n",
    "                            num_walks=18,\n",
    "                            workers=5,\n",
    "                            p=0.13,\n",
    "                            q=0.13,\n",
    "                            temp_folder='./temp/')  # Use temp_folder for big graphs\n",
    "        # Embed nodes\n",
    "        n2v_df = pd.DataFrame()\n",
    "        model = node2vec.fit(\n",
    "        )  #Use over gensim word2vec\n",
    "        edges_embs = HadamardEmbedder(keyed_vectors=model.wv)\n",
    "        # Edges:\n",
    "        for e in self.e:\n",
    "            v = edges_embs[(str(e[0]), str(e[1]))]\n",
    "            res = dict(('d' + str(i), el) for i, el in enumerate(v))\n",
    "            n2v_df = n2v_df.append(res, ignore_index=True)\n",
    "            \n",
    "        return pd.concat([n2v_df, self.labels], axis=1)"
   ]
  },
  {
   "cell_type": "code",
   "execution_count": null,
   "metadata": {},
   "outputs": [],
   "source": [
    "dirs = os.listdir('./data/')\n",
    "for x in dirs:\n",
    "    print(x)\n",
    "\n",
    "\n",
    "def ww(p):\n",
    "    m = getNode2Vec(p, 100)\n",
    "    emb_model = m.gen_node2vec()\n",
    "    emb_model.to_csv(p + 'emb.csv')\n",
    "    print('FINISHED WITH:', p)\n",
    "\n",
    "\n",
    "# Step 1: Init multiprocessing.Pool()\n",
    "pool = mp.Pool(mp.cpu_count() - 1)\n",
    "# Step 2: `pool.apply` the `howmany_within_range()`\n",
    "\n",
    "proc = []\n",
    "for net in dirs:\n",
    "    path = \"./data/{}/{}\".format(net, net)\n",
    "    p = mp.Process(target=ww,args=(path,))\n",
    "    p.start()\n",
    "    proc.append(p)\n",
    "for p in proc:\n",
    "    p.join()"
   ]
  },
  {
   "cell_type": "code",
   "execution_count": null,
   "metadata": {},
   "outputs": [],
   "source": []
  }
 ],
 "metadata": {
  "kernelspec": {
   "display_name": "Python [conda env:link-env] *",
   "language": "python",
   "name": "conda-env-link-env-py"
  },
  "language_info": {
   "codemirror_mode": {
    "name": "ipython",
    "version": 3
   },
   "file_extension": ".py",
   "mimetype": "text/x-python",
   "name": "python",
   "nbconvert_exporter": "python",
   "pygments_lexer": "ipython3",
   "version": "3.7.7"
  },
  "toc": {
   "base_numbering": 1,
   "nav_menu": {},
   "number_sections": true,
   "sideBar": true,
   "skip_h1_title": false,
   "title_cell": "Table of Contents",
   "title_sidebar": "Contents",
   "toc_cell": true,
   "toc_position": {},
   "toc_section_display": true,
   "toc_window_display": false
  }
 },
 "nbformat": 4,
 "nbformat_minor": 4
}
