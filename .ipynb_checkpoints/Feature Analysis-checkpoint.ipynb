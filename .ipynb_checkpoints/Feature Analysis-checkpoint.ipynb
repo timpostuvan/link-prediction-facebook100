{
 "cells": [
  {
   "cell_type": "markdown",
   "metadata": {
    "toc": true
   },
   "source": [
    "<h1>Table of Contents<span class=\"tocSkip\"></span></h1>\n",
    "<div class=\"toc\"><ul class=\"toc-item\"></ul></div>"
   ]
  },
  {
   "cell_type": "code",
   "execution_count": 17,
   "metadata": {
    "ExecuteTime": {
     "end_time": "2021-02-27T21:09:11.984172Z",
     "start_time": "2021-02-27T21:09:11.962931Z"
    }
   },
   "outputs": [],
   "source": [
    "import networkx as nx\n",
    "import pandas as pd\n",
    "import matplotlib.pyplot as plt\n",
    "import numpy as np\n",
    "from node2vec import Node2Vec\n",
    "from node2vec.edges import HadamardEmbedder\n",
    "from sklearn.model_selection import train_test_split\n",
    "from sklearn.preprocessing import MinMaxScaler\n",
    "from sklearn.linear_model import LogisticRegression\n",
    "from sklearn.ensemble import RandomForestClassifier\n",
    "from sklearn.metrics import confusion_matrix, classification_report, roc_auc_score\n",
    "from sklearn.neural_network import MLPClassifier\n",
    "from sklearn.preprocessing import StandardScaler\n",
    "from sklearn import decomposition, datasets\n",
    "from sklearn.manifold import TSNE\n",
    "from sklearn.feature_selection import SelectKBest,chi2\n",
    "from sklearn.model_selection import GridSearchCV\n",
    "from sklearn.pipeline import Pipeline\n",
    "from sklearn.decomposition import PCA\n",
    "from sklearn.manifold import TSNE\n",
    "from sklearn.discriminant_analysis import LinearDiscriminantAnalysis\n",
    "import os\n",
    "\n",
    "from IPython.core.interactiveshell import InteractiveShell\n",
    "InteractiveShell.ast_node_interactivity = \"all\""
   ]
  },
  {
   "cell_type": "code",
   "execution_count": 23,
   "metadata": {
    "ExecuteTime": {
     "end_time": "2021-02-27T21:09:36.767012Z",
     "start_time": "2021-02-27T21:09:36.105015Z"
    }
   },
   "outputs": [
    {
     "data": {
      "text/html": [
       "<div>\n",
       "<style scoped>\n",
       "    .dataframe tbody tr th:only-of-type {\n",
       "        vertical-align: middle;\n",
       "    }\n",
       "\n",
       "    .dataframe tbody tr th {\n",
       "        vertical-align: top;\n",
       "    }\n",
       "\n",
       "    .dataframe thead th {\n",
       "        text-align: right;\n",
       "    }\n",
       "</style>\n",
       "<table border=\"1\" class=\"dataframe\">\n",
       "  <thead>\n",
       "    <tr style=\"text-align: right;\">\n",
       "      <th></th>\n",
       "      <th>is_dorm</th>\n",
       "      <th>is_year</th>\n",
       "      <th>year_diff</th>\n",
       "      <th>from_high_school</th>\n",
       "      <th>to_high_school</th>\n",
       "      <th>from_major</th>\n",
       "      <th>to_major</th>\n",
       "      <th>is_faculty</th>\n",
       "      <th>is_gender</th>\n",
       "      <th>d0</th>\n",
       "      <th>...</th>\n",
       "      <th>d59</th>\n",
       "      <th>d6</th>\n",
       "      <th>d60</th>\n",
       "      <th>d61</th>\n",
       "      <th>d62</th>\n",
       "      <th>d63</th>\n",
       "      <th>d7</th>\n",
       "      <th>d8</th>\n",
       "      <th>d9</th>\n",
       "      <th>label</th>\n",
       "    </tr>\n",
       "  </thead>\n",
       "  <tbody>\n",
       "    <tr>\n",
       "      <th>0</th>\n",
       "      <td>0</td>\n",
       "      <td>1</td>\n",
       "      <td>0.000000</td>\n",
       "      <td>9741</td>\n",
       "      <td>17636</td>\n",
       "      <td>85</td>\n",
       "      <td>108</td>\n",
       "      <td>1</td>\n",
       "      <td>0</td>\n",
       "      <td>10.642805</td>\n",
       "      <td>...</td>\n",
       "      <td>0.888451</td>\n",
       "      <td>4.503231</td>\n",
       "      <td>0.006351</td>\n",
       "      <td>4.270055</td>\n",
       "      <td>0.025825</td>\n",
       "      <td>-0.171268</td>\n",
       "      <td>2.786140</td>\n",
       "      <td>2.104359</td>\n",
       "      <td>9.533156</td>\n",
       "      <td>1</td>\n",
       "    </tr>\n",
       "    <tr>\n",
       "      <th>1</th>\n",
       "      <td>0</td>\n",
       "      <td>0</td>\n",
       "      <td>3.000000</td>\n",
       "      <td>15890</td>\n",
       "      <td>20833</td>\n",
       "      <td>269</td>\n",
       "      <td>293</td>\n",
       "      <td>0</td>\n",
       "      <td>0</td>\n",
       "      <td>-1.099555</td>\n",
       "      <td>...</td>\n",
       "      <td>-0.104149</td>\n",
       "      <td>-2.809527</td>\n",
       "      <td>0.134791</td>\n",
       "      <td>-0.240302</td>\n",
       "      <td>0.728153</td>\n",
       "      <td>1.220623</td>\n",
       "      <td>0.116263</td>\n",
       "      <td>-0.000078</td>\n",
       "      <td>-0.559821</td>\n",
       "      <td>1</td>\n",
       "    </tr>\n",
       "    <tr>\n",
       "      <th>2</th>\n",
       "      <td>0</td>\n",
       "      <td>0</td>\n",
       "      <td>2.047161</td>\n",
       "      <td>26488</td>\n",
       "      <td>54927</td>\n",
       "      <td>293</td>\n",
       "      <td>294</td>\n",
       "      <td>0</td>\n",
       "      <td>0</td>\n",
       "      <td>0.688441</td>\n",
       "      <td>...</td>\n",
       "      <td>1.833166</td>\n",
       "      <td>0.678663</td>\n",
       "      <td>-0.789518</td>\n",
       "      <td>-1.177988</td>\n",
       "      <td>-0.341774</td>\n",
       "      <td>-0.033410</td>\n",
       "      <td>1.500471</td>\n",
       "      <td>0.035546</td>\n",
       "      <td>0.978662</td>\n",
       "      <td>0</td>\n",
       "    </tr>\n",
       "    <tr>\n",
       "      <th>3</th>\n",
       "      <td>0</td>\n",
       "      <td>1</td>\n",
       "      <td>0.000000</td>\n",
       "      <td>3638</td>\n",
       "      <td>19157</td>\n",
       "      <td>69</td>\n",
       "      <td>85</td>\n",
       "      <td>1</td>\n",
       "      <td>0</td>\n",
       "      <td>1.279752</td>\n",
       "      <td>...</td>\n",
       "      <td>1.178428</td>\n",
       "      <td>-0.489089</td>\n",
       "      <td>1.259993</td>\n",
       "      <td>-1.307781</td>\n",
       "      <td>-1.529061</td>\n",
       "      <td>0.087388</td>\n",
       "      <td>1.313743</td>\n",
       "      <td>-0.202306</td>\n",
       "      <td>-3.085782</td>\n",
       "      <td>0</td>\n",
       "    </tr>\n",
       "    <tr>\n",
       "      <th>4</th>\n",
       "      <td>0</td>\n",
       "      <td>0</td>\n",
       "      <td>2.176700</td>\n",
       "      <td>0</td>\n",
       "      <td>18366</td>\n",
       "      <td>0</td>\n",
       "      <td>217</td>\n",
       "      <td>1</td>\n",
       "      <td>1</td>\n",
       "      <td>1.814589</td>\n",
       "      <td>...</td>\n",
       "      <td>0.435346</td>\n",
       "      <td>0.174412</td>\n",
       "      <td>0.387424</td>\n",
       "      <td>-0.604271</td>\n",
       "      <td>0.199949</td>\n",
       "      <td>-0.481228</td>\n",
       "      <td>0.349823</td>\n",
       "      <td>1.335309</td>\n",
       "      <td>0.196309</td>\n",
       "      <td>0</td>\n",
       "    </tr>\n",
       "  </tbody>\n",
       "</table>\n",
       "<p>5 rows × 74 columns</p>\n",
       "</div>"
      ],
      "text/plain": [
       "   is_dorm  is_year  year_diff  from_high_school  to_high_school  from_major  \\\n",
       "0        0        1   0.000000              9741           17636          85   \n",
       "1        0        0   3.000000             15890           20833         269   \n",
       "2        0        0   2.047161             26488           54927         293   \n",
       "3        0        1   0.000000              3638           19157          69   \n",
       "4        0        0   2.176700                 0           18366           0   \n",
       "\n",
       "   to_major  is_faculty  is_gender         d0  ...       d59        d6  \\\n",
       "0       108           1          0  10.642805  ...  0.888451  4.503231   \n",
       "1       293           0          0  -1.099555  ... -0.104149 -2.809527   \n",
       "2       294           0          0   0.688441  ...  1.833166  0.678663   \n",
       "3        85           1          0   1.279752  ...  1.178428 -0.489089   \n",
       "4       217           1          1   1.814589  ...  0.435346  0.174412   \n",
       "\n",
       "        d60       d61       d62       d63        d7        d8        d9  label  \n",
       "0  0.006351  4.270055  0.025825 -0.171268  2.786140  2.104359  9.533156      1  \n",
       "1  0.134791 -0.240302  0.728153  1.220623  0.116263 -0.000078 -0.559821      1  \n",
       "2 -0.789518 -1.177988 -0.341774 -0.033410  1.500471  0.035546  0.978662      0  \n",
       "3  1.259993 -1.307781 -1.529061  0.087388  1.313743 -0.202306 -3.085782      0  \n",
       "4  0.387424 -0.604271  0.199949 -0.481228  0.349823  1.335309  0.196309      0  \n",
       "\n",
       "[5 rows x 74 columns]"
      ]
     },
     "execution_count": 23,
     "metadata": {},
     "output_type": "execute_result"
    }
   ],
   "source": [
    "path = './data/'\n",
    "emb_data = pd.read_csv('./data/node2vec_v2_test.csv.gz',compression = 'gzip',sep='\\t')\n",
    "emb_data= emb_data.drop(columns=['Unnamed: 0'])\n",
    "emb_data.head()\n",
    "cols = [\"is_dorm\",\"is_year\",\"year_diff\", \"from_high_school\",\n",
    "            \"to_high_school\", \"from_major\", \"to_major\", \"is_faculty\",\n",
    "            \"is_gender\",'label']\n",
    "emb_data = emb_data.sample(n=1000)\n",
    "X =  emb_data.drop(columns=cols).values\n",
    "y = emb_data['label'].values\n"
   ]
  },
  {
   "cell_type": "code",
   "execution_count": 24,
   "metadata": {
    "ExecuteTime": {
     "end_time": "2021-02-27T21:09:36.773566Z",
     "start_time": "2021-02-27T21:09:36.768585Z"
    }
   },
   "outputs": [
    {
     "data": {
      "text/plain": [
       "(1000, 64)"
      ]
     },
     "execution_count": 24,
     "metadata": {},
     "output_type": "execute_result"
    }
   ],
   "source": [
    "X = StandardScaler().fit_transform(X)\n",
    "X.shape"
   ]
  },
  {
   "cell_type": "code",
   "execution_count": 25,
   "metadata": {
    "ExecuteTime": {
     "end_time": "2021-02-27T21:09:36.783755Z",
     "start_time": "2021-02-27T21:09:36.775301Z"
    }
   },
   "outputs": [],
   "source": [
    "pca = PCA(n_components=2)\n",
    "principalComponents = pca.fit_transform(X)\n",
    "principalDf = pd.DataFrame(\n",
    "    data=principalComponents,\n",
    "    columns=['principal component 1', 'principal component 2'])\n",
    "finalDf = pd.concat([principalDf, pd.Series(emb_data['label'].values)], axis = 1,ignore_index=True)\n"
   ]
  },
  {
   "cell_type": "code",
   "execution_count": 26,
   "metadata": {
    "ExecuteTime": {
     "end_time": "2021-02-27T21:09:38.468556Z",
     "start_time": "2021-02-27T21:09:38.174244Z"
    }
   },
   "outputs": [
    {
     "data": {
      "text/plain": [
       "<matplotlib.collections.PathCollection at 0x7f5a62e41610>"
      ]
     },
     "execution_count": 26,
     "metadata": {},
     "output_type": "execute_result"
    },
    {
     "data": {
      "text/plain": [
       "<matplotlib.collections.PathCollection at 0x7f5a871f6cd0>"
      ]
     },
     "execution_count": 26,
     "metadata": {},
     "output_type": "execute_result"
    },
    {
     "data": {
      "image/png": "[encoded data removed]",
      "text/plain": [
       "<Figure size 432x288 with 1 Axes>"
      ]
     },
     "metadata": {
      "needs_background": "light"
     },
     "output_type": "display_data"
    }
   ],
   "source": [
    "colors = ['r', 'g']\n",
    "for i, color in enumerate(colors):\n",
    "    indicesToKeep = finalDf[2] == i\n",
    "    plt.scatter(finalDf.loc[indicesToKeep, 0],\n",
    "               finalDf.loc[indicesToKeep, 1],\n",
    "               c=color,\n",
    "               s=50)\n"
   ]
  },
  {
   "cell_type": "code",
   "execution_count": 27,
   "metadata": {
    "ExecuteTime": {
     "end_time": "2021-02-27T21:09:39.770194Z",
     "start_time": "2021-02-27T21:09:39.246631Z"
    }
   },
   "outputs": [
    {
     "name": "stdout",
     "output_type": "stream",
     "text": [
      "(1000, 64)\n",
      "(1000, 1)\n"
     ]
    },
    {
     "data": {
      "text/plain": [
       "<matplotlib.collections.PathCollection at 0x7f5a62e18ee0>"
      ]
     },
     "execution_count": 27,
     "metadata": {},
     "output_type": "execute_result"
    },
    {
     "data": {
      "text/plain": [
       "<matplotlib.collections.PathCollection at 0x7f5a62e27400>"
      ]
     },
     "execution_count": 27,
     "metadata": {},
     "output_type": "execute_result"
    },
    {
     "data": {
      "text/plain": [
       "<matplotlib.lines.Line2D at 0x7f5a62e27340>"
      ]
     },
     "execution_count": 27,
     "metadata": {},
     "output_type": "execute_result"
    },
    {
     "data": {
      "text/plain": [
       "Text(0.5, 0, 'Number of samples')"
      ]
     },
     "execution_count": 27,
     "metadata": {},
     "output_type": "execute_result"
    },
    {
     "data": {
      "text/plain": [
       "Text(0, 0.5, 'LDA Component')"
      ]
     },
     "execution_count": 27,
     "metadata": {},
     "output_type": "execute_result"
    },
    {
     "data": {
      "text/plain": [
       "<matplotlib.legend.Legend at 0x7f5a62e27d30>"
      ]
     },
     "execution_count": 27,
     "metadata": {},
     "output_type": "execute_result"
    },
    {
     "data": {
      "text/plain": [
       "Text(0.5, 1.0, 'Embedding dataset (samples = 200)')"
      ]
     },
     "execution_count": 27,
     "metadata": {},
     "output_type": "execute_result"
    },
    {
     "data": {
      "image/png": "[encoded data removed]",
      "text/plain": [
       "<Figure size 432x288 with 1 Axes>"
      ]
     },
     "metadata": {
      "needs_background": "light"
     },
     "output_type": "display_data"
    }
   ],
   "source": [
    "print(X.shape)\n",
    "lda = LinearDiscriminantAnalysis()\n",
    "X_lda = lda.fit(X, y).transform(X)\n",
    "print(X_lda.shape)\n",
    "ones = y==1\n",
    "zeros = y==0\n",
    "\n",
    "plt.scatter(x=list(range(X_lda[ones].shape[0])),y=X_lda[ones],c='b',alpha=0.7,label='1')\n",
    "plt.scatter(x=list(range(X_lda[zeros].shape[0])),y=X_lda[zeros],c='r',alpha=0.5,label='0')\n",
    "plt.axhline(lda.intercept_,color='yellow')\n",
    "plt.xlabel(\"Number of samples\")\n",
    "plt.ylabel(\"LDA Component\")\n",
    "plt.legend(loc='best')\n",
    "plt.title('Embedding dataset (samples = 200)')\n",
    "plt.savefig('emblda')\n",
    "plt.show()"
   ]
  },
  {
   "cell_type": "code",
   "execution_count": 29,
   "metadata": {
    "ExecuteTime": {
     "end_time": "2021-02-27T21:09:52.469558Z",
     "start_time": "2021-02-27T21:09:52.454876Z"
    }
   },
   "outputs": [
    {
     "name": "stdout",
     "output_type": "stream",
     "text": [
      "1: [417] 0: [466]\n",
      "accuracy: [0.883]\n"
     ]
    }
   ],
   "source": [
    "print(\"1:\",sum(X_lda[ones]> lda.intercept_),\"0:\",sum(X_lda[zeros]< lda.intercept_))\n",
    "print (\"accuracy:\", (sum(X_lda[ones]> lda.intercept_) + sum(X_lda[zeros]<lda.intercept_))/1000)"
   ]
  },
  {
   "cell_type": "code",
   "execution_count": 30,
   "metadata": {
    "ExecuteTime": {
     "end_time": "2021-02-27T21:09:57.270543Z",
     "start_time": "2021-02-27T21:09:53.494511Z"
    }
   },
   "outputs": [
    {
     "name": "stdout",
     "output_type": "stream",
     "text": [
      "[t-SNE] Computing 181 nearest neighbors...\n",
      "[t-SNE] Indexed 1000 samples in 0.015s...\n",
      "[t-SNE] Computed neighbors for 1000 samples in 0.284s...\n",
      "[t-SNE] Computed conditional probabilities for sample 1000 / 1000\n",
      "[t-SNE] Mean sigma: 1.964536\n",
      "[t-SNE] KL divergence after 250 iterations with early exaggeration: 100.929787\n",
      "[t-SNE] KL divergence after 1000 iterations: 1.746214\n"
     ]
    },
    {
     "data": {
      "text/plain": [
       "<matplotlib.collections.PathCollection at 0x7f5a62d86ac0>"
      ]
     },
     "execution_count": 30,
     "metadata": {},
     "output_type": "execute_result"
    },
    {
     "data": {
      "text/plain": [
       "<matplotlib.collections.PathCollection at 0x7f5a62d86b20>"
      ]
     },
     "execution_count": 30,
     "metadata": {},
     "output_type": "execute_result"
    },
    {
     "data": {
      "image/png": "[encoded data removed]",
      "text/plain": [
       "<Figure size 432x288 with 1 Axes>"
      ]
     },
     "metadata": {
      "needs_background": "light"
     },
     "output_type": "display_data"
    }
   ],
   "source": [
    "\n",
    "tsne = TSNE(n_components=2, verbose=1, perplexity=60, n_iter=1000)\n",
    "Xtsne = tsne.fit_transform(X)\n",
    "plt.scatter(Xtsne[ones][:,0],Xtsne[ones][:,1],color='red')\n",
    "plt.scatter(Xtsne[zeros][:,0],Xtsne[zeros][:,1],color='blue')\n",
    "plt.show()"
   ]
  },
  {
   "cell_type": "code",
   "execution_count": 31,
   "metadata": {
    "ExecuteTime": {
     "end_time": "2021-02-27T21:09:57.445839Z",
     "start_time": "2021-02-27T21:09:57.272279Z"
    }
   },
   "outputs": [
    {
     "data": {
      "text/plain": [
       "<matplotlib.contour.QuadContourSet at 0x7f5a62d3e160>"
      ]
     },
     "execution_count": 31,
     "metadata": {},
     "output_type": "execute_result"
    },
    {
     "data": {
      "text/plain": [
       "(-6.6768927574157715, 6.463107242583948, -5.981007099151611, 6.358992900848126)"
      ]
     },
     "execution_count": 31,
     "metadata": {},
     "output_type": "execute_result"
    },
    {
     "data": {
      "text/plain": [
       "<matplotlib.collections.PathCollection at 0x7f5a62d11190>"
      ]
     },
     "execution_count": 31,
     "metadata": {},
     "output_type": "execute_result"
    },
    {
     "data": {
      "text/plain": [
       "Text(0.5, 1.0, 'Perceptron')"
      ]
     },
     "execution_count": 31,
     "metadata": {},
     "output_type": "execute_result"
    },
    {
     "data": {
      "image/png": "[encoded data removed]",
      "text/plain": [
       "<Figure size 432x288 with 1 Axes>"
      ]
     },
     "metadata": {
      "needs_background": "light"
     },
     "output_type": "display_data"
    }
   ],
   "source": [
    "from sklearn.linear_model import Perceptron\n",
    "import matplotlib.pyplot as plt\n",
    "\n",
    "h = .02  # step size in the mesh\n",
    "\n",
    "\n",
    "# we create an instance of SVM and fit our data. We do not scale our\n",
    "# data since we want to plot the support vectors\n",
    "\n",
    "clf = Perceptron().fit(Xtsne, y)\n",
    "\n",
    "# create a mesh to plot in\n",
    "x_min, x_max = Xtsne[:, 0].min() - 1, Xtsne[:, 0].max() + 1\n",
    "y_min, y_max = Xtsne[:, 1].min() - 1, Xtsne[:, 1].max() + 1\n",
    "xx, yy = np.meshgrid(np.arange(x_min, x_max, h),\n",
    "                     np.arange(y_min, y_max, h))\n",
    "\n",
    "# Plot the decision boundary. For that, we will assign a color to each\n",
    "# point in the mesh [x_min, m_max]x[y_min, y_max].\n",
    "fig, ax = plt.subplots()\n",
    "Z = clf.predict(np.c_[xx.ravel(), yy.ravel()])\n",
    "\n",
    "# Put the result into a color plot\n",
    "Z = Z.reshape(xx.shape)\n",
    "ax.contourf(xx, yy, Z, cmap=plt.cm.Paired)\n",
    "ax.axis('off')\n",
    "\n",
    "# Plot also the training points\n",
    "ax.scatter(Xtsne[:, 0], Xtsne[:, 1], c=y, cmap=plt.cm.Paired)\n",
    "\n",
    "ax.set_title('Perceptron')"
   ]
  },
  {
   "cell_type": "code",
   "execution_count": null,
   "metadata": {
    "ExecuteTime": {
     "end_time": "2021-02-27T20:49:22.217836Z",
     "start_time": "2021-02-27T20:49:21.948909Z"
    }
   },
   "outputs": [],
   "source": []
  },
  {
   "cell_type": "code",
   "execution_count": 10,
   "metadata": {
    "ExecuteTime": {
     "end_time": "2021-02-27T21:03:40.383594Z",
     "start_time": "2021-02-27T21:03:40.293175Z"
    }
   },
   "outputs": [
    {
     "data": {
      "text/html": [
       "<div>\n",
       "<style scoped>\n",
       "    .dataframe tbody tr th:only-of-type {\n",
       "        vertical-align: middle;\n",
       "    }\n",
       "\n",
       "    .dataframe tbody tr th {\n",
       "        vertical-align: top;\n",
       "    }\n",
       "\n",
       "    .dataframe thead th {\n",
       "        text-align: right;\n",
       "    }\n",
       "</style>\n",
       "<table border=\"1\" class=\"dataframe\">\n",
       "  <thead>\n",
       "    <tr style=\"text-align: right;\">\n",
       "      <th></th>\n",
       "      <th>preferential</th>\n",
       "      <th>jaccard</th>\n",
       "      <th>adamic adar</th>\n",
       "      <th>resource allocation</th>\n",
       "      <th>is_dorm</th>\n",
       "      <th>is_year</th>\n",
       "      <th>from_major</th>\n",
       "      <th>to_major</th>\n",
       "      <th>is_faculty</th>\n",
       "      <th>label</th>\n",
       "    </tr>\n",
       "  </thead>\n",
       "  <tbody>\n",
       "    <tr>\n",
       "      <th>0</th>\n",
       "      <td>58158.0</td>\n",
       "      <td>0.132609</td>\n",
       "      <td>472.561963</td>\n",
       "      <td>14701.0</td>\n",
       "      <td>0.0</td>\n",
       "      <td>1.0</td>\n",
       "      <td>53.0</td>\n",
       "      <td>106.0</td>\n",
       "      <td>0.0</td>\n",
       "      <td>1.0</td>\n",
       "    </tr>\n",
       "    <tr>\n",
       "      <th>1</th>\n",
       "      <td>9918.0</td>\n",
       "      <td>0.010050</td>\n",
       "      <td>16.354318</td>\n",
       "      <td>732.0</td>\n",
       "      <td>0.0</td>\n",
       "      <td>0.0</td>\n",
       "      <td>0.0</td>\n",
       "      <td>0.0</td>\n",
       "      <td>1.0</td>\n",
       "      <td>0.0</td>\n",
       "    </tr>\n",
       "    <tr>\n",
       "      <th>2</th>\n",
       "      <td>10058.0</td>\n",
       "      <td>0.041451</td>\n",
       "      <td>53.649231</td>\n",
       "      <td>1032.0</td>\n",
       "      <td>0.0</td>\n",
       "      <td>0.0</td>\n",
       "      <td>246.0</td>\n",
       "      <td>269.0</td>\n",
       "      <td>1.0</td>\n",
       "      <td>1.0</td>\n",
       "    </tr>\n",
       "    <tr>\n",
       "      <th>3</th>\n",
       "      <td>10728.0</td>\n",
       "      <td>0.000000</td>\n",
       "      <td>0.000000</td>\n",
       "      <td>0.0</td>\n",
       "      <td>0.0</td>\n",
       "      <td>0.0</td>\n",
       "      <td>1.0</td>\n",
       "      <td>6.0</td>\n",
       "      <td>0.0</td>\n",
       "      <td>0.0</td>\n",
       "    </tr>\n",
       "    <tr>\n",
       "      <th>4</th>\n",
       "      <td>214.0</td>\n",
       "      <td>0.000000</td>\n",
       "      <td>0.000000</td>\n",
       "      <td>0.0</td>\n",
       "      <td>0.0</td>\n",
       "      <td>0.0</td>\n",
       "      <td>135.0</td>\n",
       "      <td>160.0</td>\n",
       "      <td>1.0</td>\n",
       "      <td>0.0</td>\n",
       "    </tr>\n",
       "  </tbody>\n",
       "</table>\n",
       "</div>"
      ],
      "text/plain": [
       "   preferential   jaccard  adamic adar  resource allocation  is_dorm  is_year  \\\n",
       "0       58158.0  0.132609   472.561963              14701.0      0.0      1.0   \n",
       "1        9918.0  0.010050    16.354318                732.0      0.0      0.0   \n",
       "2       10058.0  0.041451    53.649231               1032.0      0.0      0.0   \n",
       "3       10728.0  0.000000     0.000000                  0.0      0.0      0.0   \n",
       "4         214.0  0.000000     0.000000                  0.0      0.0      0.0   \n",
       "\n",
       "   from_major  to_major  is_faculty  label  \n",
       "0        53.0     106.0         0.0    1.0  \n",
       "1         0.0       0.0         1.0    0.0  \n",
       "2       246.0     269.0         1.0    1.0  \n",
       "3         1.0       6.0         0.0    0.0  \n",
       "4       135.0     160.0         1.0    0.0  "
      ]
     },
     "execution_count": 10,
     "metadata": {},
     "output_type": "execute_result"
    },
    {
     "data": {
      "text/plain": [
       "(200, 9)"
      ]
     },
     "execution_count": 10,
     "metadata": {},
     "output_type": "execute_result"
    }
   ],
   "source": [
    "path = './data/'\n",
    "top_data = pd.read_csv('./data/topological_train_filtered.data', sep='\\t')\n",
    "top_data.head()\n",
    "\n",
    "top_data = top_data.sample(n=200)\n",
    "X = top_data.drop(columns=['label']).values\n",
    "y = top_data['label'].values\n",
    "\n",
    "X = StandardScaler().fit_transform(X)\n",
    "X.shape"
   ]
  },
  {
   "cell_type": "code",
   "execution_count": 11,
   "metadata": {
    "ExecuteTime": {
     "end_time": "2021-02-27T21:03:40.567272Z",
     "start_time": "2021-02-27T21:03:40.385695Z"
    }
   },
   "outputs": [
    {
     "data": {
      "text/plain": [
       "<matplotlib.collections.PathCollection at 0x7f5a800a4790>"
      ]
     },
     "execution_count": 11,
     "metadata": {},
     "output_type": "execute_result"
    },
    {
     "data": {
      "text/plain": [
       "<matplotlib.collections.PathCollection at 0x7f5a87232f40>"
      ]
     },
     "execution_count": 11,
     "metadata": {},
     "output_type": "execute_result"
    },
    {
     "data": {
      "image/png": "[encoded data removed]",
      "text/plain": [
       "<Figure size 432x288 with 1 Axes>"
      ]
     },
     "metadata": {
      "needs_background": "light"
     },
     "output_type": "display_data"
    }
   ],
   "source": [
    "pca = PCA(n_components=2)\n",
    "principalComponents = pca.fit_transform(X)\n",
    "principalDf = pd.DataFrame(\n",
    "    data=principalComponents,\n",
    "    columns=['principal component 1', 'principal component 2'])\n",
    "finalDf = pd.concat([principalDf, pd.Series(emb_data['label'].values)], axis = 1,ignore_index=True)\n",
    "\n",
    "colors = ['r', 'g']\n",
    "for i, color in enumerate(colors):\n",
    "    indicesToKeep = finalDf[2] == i\n",
    "    plt.scatter(finalDf.loc[indicesToKeep, 0],\n",
    "               finalDf.loc[indicesToKeep, 1],\n",
    "               c=color,\n",
    "               s=50)"
   ]
  },
  {
   "cell_type": "code",
   "execution_count": 12,
   "metadata": {
    "ExecuteTime": {
     "end_time": "2021-02-27T21:03:40.904347Z",
     "start_time": "2021-02-27T21:03:40.568659Z"
    }
   },
   "outputs": [
    {
     "name": "stdout",
     "output_type": "stream",
     "text": [
      "(200, 9)\n",
      "(200, 1)\n"
     ]
    },
    {
     "data": {
      "text/plain": [
       "<matplotlib.collections.PathCollection at 0x7f5a8007ad30>"
      ]
     },
     "execution_count": 12,
     "metadata": {},
     "output_type": "execute_result"
    },
    {
     "data": {
      "text/plain": [
       "<matplotlib.collections.PathCollection at 0x7f5a800881c0>"
      ]
     },
     "execution_count": 12,
     "metadata": {},
     "output_type": "execute_result"
    },
    {
     "data": {
      "text/plain": [
       "<matplotlib.lines.Line2D at 0x7f5a80088190>"
      ]
     },
     "execution_count": 12,
     "metadata": {},
     "output_type": "execute_result"
    },
    {
     "data": {
      "text/plain": [
       "Text(0.5, 0, 'Number of samples')"
      ]
     },
     "execution_count": 12,
     "metadata": {},
     "output_type": "execute_result"
    },
    {
     "data": {
      "text/plain": [
       "Text(0, 0.5, 'LDA Component')"
      ]
     },
     "execution_count": 12,
     "metadata": {},
     "output_type": "execute_result"
    },
    {
     "data": {
      "text/plain": [
       "<matplotlib.legend.Legend at 0x7f5a80088b80>"
      ]
     },
     "execution_count": 12,
     "metadata": {},
     "output_type": "execute_result"
    },
    {
     "data": {
      "text/plain": [
       "Text(0.5, 1.0, 'Topological dataset (samples = 200)')"
      ]
     },
     "execution_count": 12,
     "metadata": {},
     "output_type": "execute_result"
    },
    {
     "data": {
      "image/png": "[encoded data removed]",
      "text/plain": [
       "<Figure size 432x288 with 1 Axes>"
      ]
     },
     "metadata": {
      "needs_background": "light"
     },
     "output_type": "display_data"
    }
   ],
   "source": [
    "print(X.shape)\n",
    "lda = LinearDiscriminantAnalysis()\n",
    "X_lda = lda.fit(X, y).transform(X)\n",
    "print(X_lda.shape)\n",
    "ones = y==1\n",
    "zeros = y==0\n",
    "plt.scatter(x=list(range(X_lda[ones].shape[0])),y=X_lda[ones],c='b',alpha=0.7,label='1')\n",
    "plt.scatter(x=list(range(X_lda[zeros].shape[0])),y=X_lda[zeros],c='r',alpha=0.5,label='0')\n",
    "plt.axhline(lda.intercept_,color='yellow')\n",
    "plt.xlabel(\"Number of samples\")\n",
    "plt.ylabel(\"LDA Component\")\n",
    "plt.legend(loc='best')\n",
    "plt.title('Topological dataset (samples = 200)')\n",
    "plt.savefig('toplda')\n",
    "plt.show()"
   ]
  },
  {
   "cell_type": "code",
   "execution_count": 13,
   "metadata": {
    "ExecuteTime": {
     "end_time": "2021-02-27T21:03:40.910551Z",
     "start_time": "2021-02-27T21:03:40.905748Z"
    }
   },
   "outputs": [
    {
     "name": "stdout",
     "output_type": "stream",
     "text": [
      "1: [15] 0: [6]\n",
      "accuracy: [0.105]\n"
     ]
    }
   ],
   "source": [
    "print(\"1:\",sum(X_lda[ones]< lda.intercept_),\"0:\",sum(X_lda[zeros]>lda.intercept_))\n",
    "print (\"accuracy:\", (sum(X_lda[ones]< lda.intercept_) + sum(X_lda[zeros]>lda.intercept_))/200)"
   ]
  },
  {
   "cell_type": "code",
   "execution_count": 14,
   "metadata": {
    "ExecuteTime": {
     "end_time": "2021-02-27T21:03:42.060586Z",
     "start_time": "2021-02-27T21:03:40.911834Z"
    }
   },
   "outputs": [
    {
     "name": "stdout",
     "output_type": "stream",
     "text": [
      "[t-SNE] Computing 181 nearest neighbors...\n",
      "[t-SNE] Indexed 200 samples in 0.000s...\n",
      "[t-SNE] Computed neighbors for 200 samples in 0.004s...\n",
      "[t-SNE] Computed conditional probabilities for sample 200 / 200\n",
      "[t-SNE] Mean sigma: 1.727308\n",
      "[t-SNE] KL divergence after 250 iterations with early exaggeration: 53.020561\n",
      "[t-SNE] KL divergence after 1000 iterations: 0.246310\n"
     ]
    },
    {
     "data": {
      "text/plain": [
       "<matplotlib.collections.PathCollection at 0x7f5a62fc6b50>"
      ]
     },
     "execution_count": 14,
     "metadata": {},
     "output_type": "execute_result"
    },
    {
     "data": {
      "text/plain": [
       "<matplotlib.collections.PathCollection at 0x7f5a62fc6bb0>"
      ]
     },
     "execution_count": 14,
     "metadata": {},
     "output_type": "execute_result"
    },
    {
     "data": {
      "image/png": "[encoded data removed]",
      "text/plain": [
       "<Figure size 432x288 with 1 Axes>"
      ]
     },
     "metadata": {
      "needs_background": "light"
     },
     "output_type": "display_data"
    }
   ],
   "source": [
    "tsne = TSNE(n_components=2, verbose=1, perplexity=60, n_iter=1000)\n",
    "Xtsne = tsne.fit_transform(X)\n",
    "plt.scatter(Xtsne[ones][:,0],Xtsne[ones][:,1],color='red')\n",
    "plt.scatter(Xtsne[zeros][:,0],Xtsne[zeros][:,1],color='blue')\n",
    "plt.show()"
   ]
  },
  {
   "cell_type": "code",
   "execution_count": 15,
   "metadata": {
    "ExecuteTime": {
     "end_time": "2021-02-27T21:03:42.241051Z",
     "start_time": "2021-02-27T21:03:42.066436Z"
    }
   },
   "outputs": [
    {
     "data": {
      "text/plain": [
       "<matplotlib.contour.QuadContourSet at 0x7f5a62f7f160>"
      ]
     },
     "execution_count": 15,
     "metadata": {},
     "output_type": "execute_result"
    },
    {
     "data": {
      "text/plain": [
       "(-4.907570838928223, 8.1324291610715, -9.753605842590332, 4.926394157409355)"
      ]
     },
     "execution_count": 15,
     "metadata": {},
     "output_type": "execute_result"
    },
    {
     "data": {
      "text/plain": [
       "<matplotlib.collections.PathCollection at 0x7f5a62f42760>"
      ]
     },
     "execution_count": 15,
     "metadata": {},
     "output_type": "execute_result"
    },
    {
     "data": {
      "text/plain": [
       "Text(0.5, 1.0, 'Perceptron')"
      ]
     },
     "execution_count": 15,
     "metadata": {},
     "output_type": "execute_result"
    },
    {
     "data": {
      "image/png": "[encoded data removed]",
      "text/plain": [
       "<Figure size 432x288 with 1 Axes>"
      ]
     },
     "metadata": {
      "needs_background": "light"
     },
     "output_type": "display_data"
    }
   ],
   "source": [
    "from sklearn.linear_model import Perceptron\n",
    "import matplotlib.pyplot as plt\n",
    "\n",
    "h = .02  # step size in the mesh\n",
    "\n",
    "\n",
    "# we create an instance of SVM and fit our data. We do not scale our\n",
    "# data since we want to plot the support vectors\n",
    "\n",
    "clf = Perceptron().fit(Xtsne, y)\n",
    "\n",
    "# create a mesh to plot in\n",
    "x_min, x_max = Xtsne[:, 0].min() - 1, Xtsne[:, 0].max() + 1\n",
    "y_min, y_max = Xtsne[:, 1].min() - 1, Xtsne[:, 1].max() + 1\n",
    "xx, yy = np.meshgrid(np.arange(x_min, x_max, h),\n",
    "                     np.arange(y_min, y_max, h))\n",
    "\n",
    "# Plot the decision boundary. For that, we will assign a color to each\n",
    "# point in the mesh [x_min, m_max]x[y_min, y_max].\n",
    "fig, ax = plt.subplots()\n",
    "Z = clf.predict(np.c_[xx.ravel(), yy.ravel()])\n",
    "\n",
    "# Put the result into a color plot\n",
    "Z = Z.reshape(xx.shape)\n",
    "ax.contourf(xx, yy, Z, cmap=plt.cm.Paired)\n",
    "ax.axis('off')\n",
    "\n",
    "# Plot also the training points\n",
    "ax.scatter(Xtsne[:, 0], Xtsne[:, 1], c=y, cmap=plt.cm.Paired)\n",
    "\n",
    "ax.set_title('Perceptron')"
   ]
  },
  {
   "cell_type": "code",
   "execution_count": 16,
   "metadata": {
    "ExecuteTime": {
     "end_time": "2021-02-27T21:03:42.246221Z",
     "start_time": "2021-02-27T21:03:42.242489Z"
    }
   },
   "outputs": [
    {
     "data": {
      "text/plain": [
       "(200, 9)"
      ]
     },
     "execution_count": 16,
     "metadata": {},
     "output_type": "execute_result"
    }
   ],
   "source": [
    "X.shape"
   ]
  },
  {
   "cell_type": "code",
   "execution_count": null,
   "metadata": {},
   "outputs": [],
   "source": []
  }
 ],
 "metadata": {
  "kernelspec": {
   "display_name": "Python [conda env:ids] *",
   "language": "python",
   "name": "conda-env-ids-py"
  },
  "language_info": {
   "codemirror_mode": {
    "name": "ipython",
    "version": 3
   },
   "file_extension": ".py",
   "mimetype": "text/x-python",
   "name": "python",
   "nbconvert_exporter": "python",
   "pygments_lexer": "ipython3",
   "version": "3.8.5"
  },
  "latex_envs": {
   "LaTeX_envs_menu_present": true,
   "autoclose": false,
   "autocomplete": true,
   "bibliofile": "biblio.bib",
   "cite_by": "apalike",
   "current_citInitial": 1,
   "eqLabelWithNumbers": true,
   "eqNumInitial": 1,
   "hotkeys": {
    "equation": "Ctrl-E",
    "itemize": "Ctrl-I"
   },
   "labels_anchors": false,
   "latex_user_defs": false,
   "report_style_numbering": false,
   "user_envs_cfg": false
  },
  "toc": {
   "base_numbering": 1,
   "nav_menu": {},
   "number_sections": true,
   "sideBar": true,
   "skip_h1_title": false,
   "title_cell": "Table of Contents",
   "title_sidebar": "Contents",
   "toc_cell": true,
   "toc_position": {},
   "toc_section_display": true,
   "toc_window_display": false
  }
 },
 "nbformat": 4,
 "nbformat_minor": 4
}
