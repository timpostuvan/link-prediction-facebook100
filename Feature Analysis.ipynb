{
 "cells": [
  {
   "cell_type": "markdown",
   "metadata": {
    "toc": true
   },
   "source": [
    "<h1>Table of Contents<span class=\"tocSkip\"></span></h1>\n",
    "<div class=\"toc\"><ul class=\"toc-item\"></ul></div>"
   ]
  },
  {
   "cell_type": "code",
   "execution_count": 1,
   "metadata": {},
   "outputs": [],
   "source": [
    "import networkx as nx\n",
    "import pandas as pd\n",
    "import matplotlib.pyplot as plt\n",
    "import numpy as np\n",
    "from node2vec import Node2Vec\n",
    "from node2vec.edges import HadamardEmbedder\n",
    "from sklearn.model_selection import train_test_split\n",
    "from sklearn.preprocessing import MinMaxScaler\n",
    "from sklearn.linear_model import LogisticRegression\n",
    "from sklearn.ensemble import RandomForestClassifier\n",
    "from sklearn.metrics import confusion_matrix, classification_report, roc_auc_score\n",
    "from sklearn.neural_network import MLPClassifier\n",
    "from sklearn.preprocessing import StandardScaler\n",
    "from sklearn import decomposition, datasets\n",
    "from sklearn.manifold import TSNE\n",
    "from sklearn.feature_selection import SelectKBest,chi2\n",
    "from sklearn.model_selection import GridSearchCV\n",
    "from sklearn.pipeline import Pipeline\n",
    "from sklearn.decomposition import PCA\n",
    "from sklearn.manifold import TSNE\n",
    "from sklearn.discriminant_analysis import LinearDiscriminantAnalysis\n",
    "import os\n",
    "\n",
    "from IPython.core.interactiveshell import InteractiveShell\n",
    "InteractiveShell.ast_node_interactivity = \"all\""
   ]
  },
  {
   "cell_type": "code",
   "execution_count": 2,
   "metadata": {},
   "outputs": [
    {
     "data": {
      "text/html": [
       "<div>\n",
       "<style scoped>\n",
       "    .dataframe tbody tr th:only-of-type {\n",
       "        vertical-align: middle;\n",
       "    }\n",
       "\n",
       "    .dataframe tbody tr th {\n",
       "        vertical-align: top;\n",
       "    }\n",
       "\n",
       "    .dataframe thead th {\n",
       "        text-align: right;\n",
       "    }\n",
       "</style>\n",
       "<table border=\"1\" class=\"dataframe\">\n",
       "  <thead>\n",
       "    <tr style=\"text-align: right;\">\n",
       "      <th></th>\n",
       "      <th>is_dorm</th>\n",
       "      <th>is_year</th>\n",
       "      <th>year_diff</th>\n",
       "      <th>from_high_school</th>\n",
       "      <th>to_high_school</th>\n",
       "      <th>from_major</th>\n",
       "      <th>to_major</th>\n",
       "      <th>is_faculty</th>\n",
       "      <th>is_gender</th>\n",
       "      <th>d0</th>\n",
       "      <th>...</th>\n",
       "      <th>d59</th>\n",
       "      <th>d6</th>\n",
       "      <th>d60</th>\n",
       "      <th>d61</th>\n",
       "      <th>d62</th>\n",
       "      <th>d63</th>\n",
       "      <th>d7</th>\n",
       "      <th>d8</th>\n",
       "      <th>d9</th>\n",
       "      <th>label</th>\n",
       "    </tr>\n",
       "  </thead>\n",
       "  <tbody>\n",
       "    <tr>\n",
       "      <th>0</th>\n",
       "      <td>0</td>\n",
       "      <td>0</td>\n",
       "      <td>1.000000</td>\n",
       "      <td>17819</td>\n",
       "      <td>50093</td>\n",
       "      <td>265</td>\n",
       "      <td>294</td>\n",
       "      <td>1</td>\n",
       "      <td>1</td>\n",
       "      <td>0.586327</td>\n",
       "      <td>...</td>\n",
       "      <td>0.080709</td>\n",
       "      <td>0.663903</td>\n",
       "      <td>0.521325</td>\n",
       "      <td>-1.218457</td>\n",
       "      <td>0.572862</td>\n",
       "      <td>8.867662</td>\n",
       "      <td>0.098672</td>\n",
       "      <td>0.072862</td>\n",
       "      <td>1.136375</td>\n",
       "      <td>0</td>\n",
       "    </tr>\n",
       "    <tr>\n",
       "      <th>1</th>\n",
       "      <td>0</td>\n",
       "      <td>1</td>\n",
       "      <td>0.000000</td>\n",
       "      <td>10070</td>\n",
       "      <td>24562</td>\n",
       "      <td>51</td>\n",
       "      <td>60</td>\n",
       "      <td>1</td>\n",
       "      <td>1</td>\n",
       "      <td>1.556291</td>\n",
       "      <td>...</td>\n",
       "      <td>2.682853</td>\n",
       "      <td>-0.022940</td>\n",
       "      <td>-0.371618</td>\n",
       "      <td>-0.987022</td>\n",
       "      <td>1.831474</td>\n",
       "      <td>-0.448014</td>\n",
       "      <td>1.167990</td>\n",
       "      <td>2.401762</td>\n",
       "      <td>0.431279</td>\n",
       "      <td>0</td>\n",
       "    </tr>\n",
       "    <tr>\n",
       "      <th>2</th>\n",
       "      <td>0</td>\n",
       "      <td>1</td>\n",
       "      <td>0.000000</td>\n",
       "      <td>1544</td>\n",
       "      <td>6122</td>\n",
       "      <td>14</td>\n",
       "      <td>39</td>\n",
       "      <td>1</td>\n",
       "      <td>1</td>\n",
       "      <td>-0.649554</td>\n",
       "      <td>...</td>\n",
       "      <td>6.857399</td>\n",
       "      <td>-0.348564</td>\n",
       "      <td>2.753245</td>\n",
       "      <td>-0.207652</td>\n",
       "      <td>1.892210</td>\n",
       "      <td>-0.977367</td>\n",
       "      <td>11.321891</td>\n",
       "      <td>2.510515</td>\n",
       "      <td>2.910005</td>\n",
       "      <td>1</td>\n",
       "    </tr>\n",
       "    <tr>\n",
       "      <th>3</th>\n",
       "      <td>0</td>\n",
       "      <td>0</td>\n",
       "      <td>2.196375</td>\n",
       "      <td>1894</td>\n",
       "      <td>50410</td>\n",
       "      <td>0</td>\n",
       "      <td>40</td>\n",
       "      <td>0</td>\n",
       "      <td>0</td>\n",
       "      <td>3.757138</td>\n",
       "      <td>...</td>\n",
       "      <td>5.611234</td>\n",
       "      <td>-1.006211</td>\n",
       "      <td>-1.872412</td>\n",
       "      <td>-0.861397</td>\n",
       "      <td>0.114388</td>\n",
       "      <td>-1.096610</td>\n",
       "      <td>-4.892152</td>\n",
       "      <td>-3.294941</td>\n",
       "      <td>0.133597</td>\n",
       "      <td>0</td>\n",
       "    </tr>\n",
       "    <tr>\n",
       "      <th>4</th>\n",
       "      <td>0</td>\n",
       "      <td>1</td>\n",
       "      <td>0.000000</td>\n",
       "      <td>3535</td>\n",
       "      <td>21037</td>\n",
       "      <td>238</td>\n",
       "      <td>271</td>\n",
       "      <td>1</td>\n",
       "      <td>1</td>\n",
       "      <td>1.290842</td>\n",
       "      <td>...</td>\n",
       "      <td>0.824280</td>\n",
       "      <td>0.429348</td>\n",
       "      <td>2.083774</td>\n",
       "      <td>0.281935</td>\n",
       "      <td>-1.777484</td>\n",
       "      <td>0.258835</td>\n",
       "      <td>0.234619</td>\n",
       "      <td>-0.287869</td>\n",
       "      <td>2.079238</td>\n",
       "      <td>0</td>\n",
       "    </tr>\n",
       "  </tbody>\n",
       "</table>\n",
       "<p>5 rows × 74 columns</p>\n",
       "</div>"
      ],
      "text/plain": [
       "   is_dorm  is_year  year_diff  from_high_school  to_high_school  from_major  \\\n",
       "0        0        0   1.000000             17819           50093         265   \n",
       "1        0        1   0.000000             10070           24562          51   \n",
       "2        0        1   0.000000              1544            6122          14   \n",
       "3        0        0   2.196375              1894           50410           0   \n",
       "4        0        1   0.000000              3535           21037         238   \n",
       "\n",
       "   to_major  is_faculty  is_gender        d0  ...       d59        d6  \\\n",
       "0       294           1          1  0.586327  ...  0.080709  0.663903   \n",
       "1        60           1          1  1.556291  ...  2.682853 -0.022940   \n",
       "2        39           1          1 -0.649554  ...  6.857399 -0.348564   \n",
       "3        40           0          0  3.757138  ...  5.611234 -1.006211   \n",
       "4       271           1          1  1.290842  ...  0.824280  0.429348   \n",
       "\n",
       "        d60       d61       d62       d63         d7        d8        d9  \\\n",
       "0  0.521325 -1.218457  0.572862  8.867662   0.098672  0.072862  1.136375   \n",
       "1 -0.371618 -0.987022  1.831474 -0.448014   1.167990  2.401762  0.431279   \n",
       "2  2.753245 -0.207652  1.892210 -0.977367  11.321891  2.510515  2.910005   \n",
       "3 -1.872412 -0.861397  0.114388 -1.096610  -4.892152 -3.294941  0.133597   \n",
       "4  2.083774  0.281935 -1.777484  0.258835   0.234619 -0.287869  2.079238   \n",
       "\n",
       "   label  \n",
       "0      0  \n",
       "1      0  \n",
       "2      1  \n",
       "3      0  \n",
       "4      0  \n",
       "\n",
       "[5 rows x 74 columns]"
      ]
     },
     "execution_count": 2,
     "metadata": {},
     "output_type": "execute_result"
    }
   ],
   "source": [
    "path = './data/'\n",
    "emb_data = pd.read_csv('./data/node2vec_v2_train.csv.gz',compression = 'gzip',sep='\\t')\n",
    "emb_data= emb_data.drop(columns=['Unnamed: 0'])\n",
    "emb_data.head()\n",
    "cols = [\"is_dorm\",\"is_year\",\"year_diff\", \"from_high_school\",\n",
    "            \"to_high_school\", \"from_major\", \"to_major\", \"is_faculty\",\n",
    "            \"is_gender\",'label']\n",
    "emb_data = emb_data.sample(n=200)\n",
    "X =  emb_data.drop(columns=cols).values\n",
    "y = emb_data['label'].values\n"
   ]
  },
  {
   "cell_type": "code",
   "execution_count": 3,
   "metadata": {},
   "outputs": [
    {
     "data": {
      "text/plain": [
       "(200, 64)"
      ]
     },
     "execution_count": 3,
     "metadata": {},
     "output_type": "execute_result"
    }
   ],
   "source": [
    "X = StandardScaler().fit_transform(X)\n",
    "X.shape"
   ]
  },
  {
   "cell_type": "code",
   "execution_count": 4,
   "metadata": {},
   "outputs": [],
   "source": [
    "pca = PCA(n_components=2)\n",
    "principalComponents = pca.fit_transform(X)\n",
    "principalDf = pd.DataFrame(\n",
    "    data=principalComponents,\n",
    "    columns=['principal component 1', 'principal component 2'])\n",
    "finalDf = pd.concat([principalDf, pd.Series(emb_data['label'].values)], axis = 1,ignore_index=True)\n"
   ]
  },
  {
   "cell_type": "code",
   "execution_count": 5,
   "metadata": {},
   "outputs": [
    {
     "data": {
      "text/plain": [
       "<matplotlib.collections.PathCollection at 0x7fb9ed56a5d0>"
      ]
     },
     "execution_count": 5,
     "metadata": {},
     "output_type": "execute_result"
    },
    {
     "data": {
      "text/plain": [
       "<matplotlib.collections.PathCollection at 0x7fb9ed56a850>"
      ]
     },
     "execution_count": 5,
     "metadata": {},
     "output_type": "execute_result"
    },
    {
     "data": {
      "image/png": "[encoded data removed]",
      "text/plain": [
       "<Figure size 432x288 with 1 Axes>"
      ]
     },
     "metadata": {
      "needs_background": "light"
     },
     "output_type": "display_data"
    }
   ],
   "source": [
    "colors = ['r', 'g']\n",
    "for i, color in enumerate(colors):\n",
    "    indicesToKeep = finalDf[2] == i\n",
    "    plt.scatter(finalDf.loc[indicesToKeep, 0],\n",
    "               finalDf.loc[indicesToKeep, 1],\n",
    "               c=color,\n",
    "               s=50)\n"
   ]
  },
  {
   "cell_type": "code",
   "execution_count": 6,
   "metadata": {},
   "outputs": [
    {
     "name": "stdout",
     "output_type": "stream",
     "text": [
      "(200, 64)\n",
      "(200, 1)\n"
     ]
    },
    {
     "data": {
      "text/plain": [
       "<matplotlib.collections.PathCollection at 0x7fb9ed4db750>"
      ]
     },
     "execution_count": 6,
     "metadata": {},
     "output_type": "execute_result"
    },
    {
     "data": {
      "text/plain": [
       "<matplotlib.collections.PathCollection at 0x7fb9ed49fc50>"
      ]
     },
     "execution_count": 6,
     "metadata": {},
     "output_type": "execute_result"
    },
    {
     "data": {
      "text/plain": [
       "Text(0.5, 0, 'Number of samples')"
      ]
     },
     "execution_count": 6,
     "metadata": {},
     "output_type": "execute_result"
    },
    {
     "data": {
      "text/plain": [
       "Text(0, 0.5, 'LDA Component')"
      ]
     },
     "execution_count": 6,
     "metadata": {},
     "output_type": "execute_result"
    },
    {
     "data": {
      "text/plain": [
       "<matplotlib.legend.Legend at 0x7fb9ed54c890>"
      ]
     },
     "execution_count": 6,
     "metadata": {},
     "output_type": "execute_result"
    },
    {
     "data": {
      "text/plain": [
       "Text(0.5, 1.0, 'Embedding dataset (samples = 200)')"
      ]
     },
     "execution_count": 6,
     "metadata": {},
     "output_type": "execute_result"
    },
    {
     "data": {
      "image/png": "[encoded data removed]",
      "text/plain": [
       "<Figure size 432x288 with 1 Axes>"
      ]
     },
     "metadata": {
      "needs_background": "light"
     },
     "output_type": "display_data"
    }
   ],
   "source": [
    "print(X.shape)\n",
    "lda = LinearDiscriminantAnalysis()\n",
    "X_lda = lda.fit(X, y).transform(X)\n",
    "print(X_lda.shape)\n",
    "ones = y==1\n",
    "zeros = y==0\n",
    "\n",
    "plt.scatter(x=list(range(X_lda[ones].shape[0])),y=X_lda[ones],c='b',alpha=0.7,label='1')\n",
    "plt.scatter(x=list(range(X_lda[zeros].shape[0])),y=X_lda[zeros],c='r',alpha=0.5,label='0')\n",
    "plt.xlabel(\"Number of samples\")\n",
    "plt.ylabel(\"LDA Component\")\n",
    "plt.legend(loc='best')\n",
    "plt.title('Embedding dataset (samples = 200)')\n",
    "plt.savefig('emblda')\n",
    "plt.show()"
   ]
  },
  {
   "cell_type": "code",
   "execution_count": 7,
   "metadata": {},
   "outputs": [
    {
     "data": {
      "text/html": [
       "<div>\n",
       "<style scoped>\n",
       "    .dataframe tbody tr th:only-of-type {\n",
       "        vertical-align: middle;\n",
       "    }\n",
       "\n",
       "    .dataframe tbody tr th {\n",
       "        vertical-align: top;\n",
       "    }\n",
       "\n",
       "    .dataframe thead th {\n",
       "        text-align: right;\n",
       "    }\n",
       "</style>\n",
       "<table border=\"1\" class=\"dataframe\">\n",
       "  <thead>\n",
       "    <tr style=\"text-align: right;\">\n",
       "      <th></th>\n",
       "      <th>preferential</th>\n",
       "      <th>jaccard</th>\n",
       "      <th>adamic adar</th>\n",
       "      <th>resource allocation</th>\n",
       "      <th>is_dorm</th>\n",
       "      <th>is_year</th>\n",
       "      <th>from_major</th>\n",
       "      <th>to_major</th>\n",
       "      <th>is_faculty</th>\n",
       "      <th>label</th>\n",
       "    </tr>\n",
       "  </thead>\n",
       "  <tbody>\n",
       "    <tr>\n",
       "      <th>0</th>\n",
       "      <td>58158.0</td>\n",
       "      <td>0.132609</td>\n",
       "      <td>472.561963</td>\n",
       "      <td>14701.0</td>\n",
       "      <td>0.0</td>\n",
       "      <td>1.0</td>\n",
       "      <td>53.0</td>\n",
       "      <td>106.0</td>\n",
       "      <td>0.0</td>\n",
       "      <td>1.0</td>\n",
       "    </tr>\n",
       "    <tr>\n",
       "      <th>1</th>\n",
       "      <td>9918.0</td>\n",
       "      <td>0.010050</td>\n",
       "      <td>16.354318</td>\n",
       "      <td>732.0</td>\n",
       "      <td>0.0</td>\n",
       "      <td>0.0</td>\n",
       "      <td>0.0</td>\n",
       "      <td>0.0</td>\n",
       "      <td>1.0</td>\n",
       "      <td>0.0</td>\n",
       "    </tr>\n",
       "    <tr>\n",
       "      <th>2</th>\n",
       "      <td>10058.0</td>\n",
       "      <td>0.041451</td>\n",
       "      <td>53.649231</td>\n",
       "      <td>1032.0</td>\n",
       "      <td>0.0</td>\n",
       "      <td>0.0</td>\n",
       "      <td>246.0</td>\n",
       "      <td>269.0</td>\n",
       "      <td>1.0</td>\n",
       "      <td>1.0</td>\n",
       "    </tr>\n",
       "    <tr>\n",
       "      <th>3</th>\n",
       "      <td>10728.0</td>\n",
       "      <td>0.000000</td>\n",
       "      <td>0.000000</td>\n",
       "      <td>0.0</td>\n",
       "      <td>0.0</td>\n",
       "      <td>0.0</td>\n",
       "      <td>1.0</td>\n",
       "      <td>6.0</td>\n",
       "      <td>0.0</td>\n",
       "      <td>0.0</td>\n",
       "    </tr>\n",
       "    <tr>\n",
       "      <th>4</th>\n",
       "      <td>214.0</td>\n",
       "      <td>0.000000</td>\n",
       "      <td>0.000000</td>\n",
       "      <td>0.0</td>\n",
       "      <td>0.0</td>\n",
       "      <td>0.0</td>\n",
       "      <td>135.0</td>\n",
       "      <td>160.0</td>\n",
       "      <td>1.0</td>\n",
       "      <td>0.0</td>\n",
       "    </tr>\n",
       "  </tbody>\n",
       "</table>\n",
       "</div>"
      ],
      "text/plain": [
       "   preferential   jaccard  adamic adar  resource allocation  is_dorm  is_year  \\\n",
       "0       58158.0  0.132609   472.561963              14701.0      0.0      1.0   \n",
       "1        9918.0  0.010050    16.354318                732.0      0.0      0.0   \n",
       "2       10058.0  0.041451    53.649231               1032.0      0.0      0.0   \n",
       "3       10728.0  0.000000     0.000000                  0.0      0.0      0.0   \n",
       "4         214.0  0.000000     0.000000                  0.0      0.0      0.0   \n",
       "\n",
       "   from_major  to_major  is_faculty  label  \n",
       "0        53.0     106.0         0.0    1.0  \n",
       "1         0.0       0.0         1.0    0.0  \n",
       "2       246.0     269.0         1.0    1.0  \n",
       "3         1.0       6.0         0.0    0.0  \n",
       "4       135.0     160.0         1.0    0.0  "
      ]
     },
     "execution_count": 7,
     "metadata": {},
     "output_type": "execute_result"
    },
    {
     "data": {
      "text/plain": [
       "(200, 9)"
      ]
     },
     "execution_count": 7,
     "metadata": {},
     "output_type": "execute_result"
    }
   ],
   "source": [
    "path = './data/'\n",
    "top_data = pd.read_csv('./data/topological_train_filtered.data', sep='\\t')\n",
    "top_data.head()\n",
    "\n",
    "top_data = top_data.sample(n=200)\n",
    "X = top_data.drop(columns=['label']).values\n",
    "y = top_data['label'].values\n",
    "\n",
    "X = StandardScaler().fit_transform(X)\n",
    "X.shape"
   ]
  },
  {
   "cell_type": "code",
   "execution_count": 8,
   "metadata": {},
   "outputs": [
    {
     "data": {
      "text/plain": [
       "<matplotlib.collections.PathCollection at 0x7fb9ed43a9d0>"
      ]
     },
     "execution_count": 8,
     "metadata": {},
     "output_type": "execute_result"
    },
    {
     "data": {
      "text/plain": [
       "<matplotlib.collections.PathCollection at 0x7fb9ed43acd0>"
      ]
     },
     "execution_count": 8,
     "metadata": {},
     "output_type": "execute_result"
    },
    {
     "data": {
      "image/png": "[encoded data removed]",
      "text/plain": [
       "<Figure size 432x288 with 1 Axes>"
      ]
     },
     "metadata": {
      "needs_background": "light"
     },
     "output_type": "display_data"
    }
   ],
   "source": [
    "pca = PCA(n_components=2)\n",
    "principalComponents = pca.fit_transform(X)\n",
    "principalDf = pd.DataFrame(\n",
    "    data=principalComponents,\n",
    "    columns=['principal component 1', 'principal component 2'])\n",
    "finalDf = pd.concat([principalDf, pd.Series(emb_data['label'].values)], axis = 1,ignore_index=True)\n",
    "\n",
    "colors = ['r', 'g']\n",
    "for i, color in enumerate(colors):\n",
    "    indicesToKeep = finalDf[2] == i\n",
    "    plt.scatter(finalDf.loc[indicesToKeep, 0],\n",
    "               finalDf.loc[indicesToKeep, 1],\n",
    "               c=color,\n",
    "               s=50)"
   ]
  },
  {
   "cell_type": "code",
   "execution_count": 9,
   "metadata": {},
   "outputs": [
    {
     "name": "stdout",
     "output_type": "stream",
     "text": [
      "(200, 9)\n",
      "(200, 1)\n"
     ]
    },
    {
     "data": {
      "text/plain": [
       "<matplotlib.collections.PathCollection at 0x7fb9ed401450>"
      ]
     },
     "execution_count": 9,
     "metadata": {},
     "output_type": "execute_result"
    },
    {
     "data": {
      "text/plain": [
       "<matplotlib.collections.PathCollection at 0x7fb9ed3ae690>"
      ]
     },
     "execution_count": 9,
     "metadata": {},
     "output_type": "execute_result"
    },
    {
     "data": {
      "text/plain": [
       "Text(0.5, 0, 'Number of samples')"
      ]
     },
     "execution_count": 9,
     "metadata": {},
     "output_type": "execute_result"
    },
    {
     "data": {
      "text/plain": [
       "Text(0, 0.5, 'LDA Component')"
      ]
     },
     "execution_count": 9,
     "metadata": {},
     "output_type": "execute_result"
    },
    {
     "data": {
      "text/plain": [
       "<matplotlib.legend.Legend at 0x7fb9ed3a65d0>"
      ]
     },
     "execution_count": 9,
     "metadata": {},
     "output_type": "execute_result"
    },
    {
     "data": {
      "text/plain": [
       "Text(0.5, 1.0, 'Topological dataset (samples = 200)')"
      ]
     },
     "execution_count": 9,
     "metadata": {},
     "output_type": "execute_result"
    },
    {
     "data": {
      "image/png": "[encoded data removed]",
      "text/plain": [
       "<Figure size 432x288 with 1 Axes>"
      ]
     },
     "metadata": {
      "needs_background": "light"
     },
     "output_type": "display_data"
    }
   ],
   "source": [
    "print(X.shape)\n",
    "lda = LinearDiscriminantAnalysis()\n",
    "X_lda = lda.fit(X, y).transform(X)\n",
    "print(X_lda.shape)\n",
    "ones = y==1\n",
    "zeros = y==0\n",
    "plt.scatter(x=list(range(X_lda[ones].shape[0])),y=X_lda[ones],c='b',alpha=0.7,label='1')\n",
    "plt.scatter(x=list(range(X_lda[zeros].shape[0])),y=X_lda[zeros],c='r',alpha=0.5,label='0')\n",
    "plt.xlabel(\"Number of samples\")\n",
    "plt.ylabel(\"LDA Component\")\n",
    "plt.legend(loc='best')\n",
    "plt.title('Topological dataset (samples = 200)')\n",
    "plt.savefig('toplda')\n",
    "plt.show()"
   ]
  },
  {
   "cell_type": "code",
   "execution_count": 10,
   "metadata": {},
   "outputs": [],
   "source": [
    "topp = pd.read_csv('./unseen-data/topological_unseen.data',sep='\\t')\n",
    "topp = topp.drop(columns=[\"preferential\",\"jaccard\",\"adamic adar\", \"resource allocation\"])\n",
    "topp.to_csv('./unseen-data/node_based_unseen.data',sep='\\t',index=False)"
   ]
  },
  {
   "cell_type": "code",
   "execution_count": null,
   "metadata": {},
   "outputs": [],
   "source": []
  }
 ],
 "metadata": {
  "kernelspec": {
   "display_name": "Python [conda env:link-env] *",
   "language": "python",
   "name": "conda-env-link-env-py"
  },
  "language_info": {
   "codemirror_mode": {
    "name": "ipython",
    "version": 3
   },
   "file_extension": ".py",
   "mimetype": "text/x-python",
   "name": "python",
   "nbconvert_exporter": "python",
   "pygments_lexer": "ipython3",
   "version": "3.7.7"
  },
  "toc": {
   "base_numbering": 1,
   "nav_menu": {},
   "number_sections": true,
   "sideBar": true,
   "skip_h1_title": false,
   "title_cell": "Table of Contents",
   "title_sidebar": "Contents",
   "toc_cell": true,
   "toc_position": {},
   "toc_section_display": true,
   "toc_window_display": false
  }
 },
 "nbformat": 4,
 "nbformat_minor": 4
}
