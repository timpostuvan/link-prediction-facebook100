{
 "cells": [
  {
   "cell_type": "markdown",
   "metadata": {
    "toc": true
   },
   "source": [
    "<h1>Table of Contents<span class=\"tocSkip\"></span></h1>\n",
    "<div class=\"toc\"><ul class=\"toc-item\"></ul></div>"
   ]
  },
  {
   "cell_type": "code",
   "execution_count": 1,
   "metadata": {},
   "outputs": [],
   "source": [
    "import networkx as nx\n",
    "import pandas as pd\n",
    "import matplotlib.pyplot as plt\n",
    "import numpy as np\n",
    "from node2vec import Node2Vec\n",
    "from node2vec.edges import HadamardEmbedder\n",
    "from sklearn.model_selection import train_test_split\n",
    "from sklearn.preprocessing import MinMaxScaler\n",
    "from sklearn.linear_model import LogisticRegression\n",
    "from sklearn.ensemble import RandomForestClassifier\n",
    "from sklearn.metrics import confusion_matrix, classification_report, roc_auc_score\n",
    "from sklearn.neural_network import MLPClassifier\n",
    "from sklearn.preprocessing import StandardScaler\n",
    "from sklearn import decomposition, datasets\n",
    "from sklearn.manifold import TSNE\n",
    "from sklearn.feature_selection import SelectKBest,chi2\n",
    "from sklearn.model_selection import GridSearchCV\n",
    "from sklearn.pipeline import Pipeline\n",
    "import os\n",
    "from sklearn.model_selection import StratifiedKFold\n",
    "from sklearn.feature_selection import RFECV\n",
    "\n",
    "from IPython.core.interactiveshell import InteractiveShell\n",
    "InteractiveShell.ast_node_interactivity = \"all\""
   ]
  },
  {
   "cell_type": "code",
   "execution_count": 2,
   "metadata": {},
   "outputs": [
    {
     "data": {
      "text/html": [
       "<div>\n",
       "<style scoped>\n",
       "    .dataframe tbody tr th:only-of-type {\n",
       "        vertical-align: middle;\n",
       "    }\n",
       "\n",
       "    .dataframe tbody tr th {\n",
       "        vertical-align: top;\n",
       "    }\n",
       "\n",
       "    .dataframe thead th {\n",
       "        text-align: right;\n",
       "    }\n",
       "</style>\n",
       "<table border=\"1\" class=\"dataframe\">\n",
       "  <thead>\n",
       "    <tr style=\"text-align: right;\">\n",
       "      <th></th>\n",
       "      <th>is_dorm</th>\n",
       "      <th>is_year</th>\n",
       "      <th>year_diff</th>\n",
       "      <th>from_high_school</th>\n",
       "      <th>to_high_school</th>\n",
       "      <th>from_major</th>\n",
       "      <th>to_major</th>\n",
       "      <th>is_faculty</th>\n",
       "      <th>is_gender</th>\n",
       "      <th>d0</th>\n",
       "      <th>...</th>\n",
       "      <th>d59</th>\n",
       "      <th>d6</th>\n",
       "      <th>d60</th>\n",
       "      <th>d61</th>\n",
       "      <th>d62</th>\n",
       "      <th>d63</th>\n",
       "      <th>d7</th>\n",
       "      <th>d8</th>\n",
       "      <th>d9</th>\n",
       "      <th>label</th>\n",
       "    </tr>\n",
       "  </thead>\n",
       "  <tbody>\n",
       "    <tr>\n",
       "      <th>0</th>\n",
       "      <td>0</td>\n",
       "      <td>0</td>\n",
       "      <td>1.000000</td>\n",
       "      <td>17819</td>\n",
       "      <td>50093</td>\n",
       "      <td>265</td>\n",
       "      <td>294</td>\n",
       "      <td>1</td>\n",
       "      <td>1</td>\n",
       "      <td>0.586327</td>\n",
       "      <td>...</td>\n",
       "      <td>0.080709</td>\n",
       "      <td>0.663903</td>\n",
       "      <td>0.521325</td>\n",
       "      <td>-1.218457</td>\n",
       "      <td>0.572862</td>\n",
       "      <td>8.867662</td>\n",
       "      <td>0.098672</td>\n",
       "      <td>0.072862</td>\n",
       "      <td>1.136375</td>\n",
       "      <td>0</td>\n",
       "    </tr>\n",
       "    <tr>\n",
       "      <th>1</th>\n",
       "      <td>0</td>\n",
       "      <td>1</td>\n",
       "      <td>0.000000</td>\n",
       "      <td>10070</td>\n",
       "      <td>24562</td>\n",
       "      <td>51</td>\n",
       "      <td>60</td>\n",
       "      <td>1</td>\n",
       "      <td>1</td>\n",
       "      <td>1.556291</td>\n",
       "      <td>...</td>\n",
       "      <td>2.682853</td>\n",
       "      <td>-0.022940</td>\n",
       "      <td>-0.371618</td>\n",
       "      <td>-0.987022</td>\n",
       "      <td>1.831474</td>\n",
       "      <td>-0.448014</td>\n",
       "      <td>1.167990</td>\n",
       "      <td>2.401762</td>\n",
       "      <td>0.431279</td>\n",
       "      <td>0</td>\n",
       "    </tr>\n",
       "    <tr>\n",
       "      <th>2</th>\n",
       "      <td>0</td>\n",
       "      <td>1</td>\n",
       "      <td>0.000000</td>\n",
       "      <td>1544</td>\n",
       "      <td>6122</td>\n",
       "      <td>14</td>\n",
       "      <td>39</td>\n",
       "      <td>1</td>\n",
       "      <td>1</td>\n",
       "      <td>-0.649554</td>\n",
       "      <td>...</td>\n",
       "      <td>6.857399</td>\n",
       "      <td>-0.348564</td>\n",
       "      <td>2.753245</td>\n",
       "      <td>-0.207652</td>\n",
       "      <td>1.892210</td>\n",
       "      <td>-0.977367</td>\n",
       "      <td>11.321891</td>\n",
       "      <td>2.510515</td>\n",
       "      <td>2.910005</td>\n",
       "      <td>1</td>\n",
       "    </tr>\n",
       "    <tr>\n",
       "      <th>3</th>\n",
       "      <td>0</td>\n",
       "      <td>0</td>\n",
       "      <td>2.196375</td>\n",
       "      <td>1894</td>\n",
       "      <td>50410</td>\n",
       "      <td>0</td>\n",
       "      <td>40</td>\n",
       "      <td>0</td>\n",
       "      <td>0</td>\n",
       "      <td>3.757138</td>\n",
       "      <td>...</td>\n",
       "      <td>5.611234</td>\n",
       "      <td>-1.006211</td>\n",
       "      <td>-1.872412</td>\n",
       "      <td>-0.861397</td>\n",
       "      <td>0.114388</td>\n",
       "      <td>-1.096610</td>\n",
       "      <td>-4.892152</td>\n",
       "      <td>-3.294941</td>\n",
       "      <td>0.133597</td>\n",
       "      <td>0</td>\n",
       "    </tr>\n",
       "    <tr>\n",
       "      <th>4</th>\n",
       "      <td>0</td>\n",
       "      <td>1</td>\n",
       "      <td>0.000000</td>\n",
       "      <td>3535</td>\n",
       "      <td>21037</td>\n",
       "      <td>238</td>\n",
       "      <td>271</td>\n",
       "      <td>1</td>\n",
       "      <td>1</td>\n",
       "      <td>1.290842</td>\n",
       "      <td>...</td>\n",
       "      <td>0.824280</td>\n",
       "      <td>0.429348</td>\n",
       "      <td>2.083774</td>\n",
       "      <td>0.281935</td>\n",
       "      <td>-1.777484</td>\n",
       "      <td>0.258835</td>\n",
       "      <td>0.234619</td>\n",
       "      <td>-0.287869</td>\n",
       "      <td>2.079238</td>\n",
       "      <td>0</td>\n",
       "    </tr>\n",
       "  </tbody>\n",
       "</table>\n",
       "<p>5 rows × 74 columns</p>\n",
       "</div>"
      ],
      "text/plain": [
       "   is_dorm  is_year  year_diff  from_high_school  to_high_school  from_major  \\\n",
       "0        0        0   1.000000             17819           50093         265   \n",
       "1        0        1   0.000000             10070           24562          51   \n",
       "2        0        1   0.000000              1544            6122          14   \n",
       "3        0        0   2.196375              1894           50410           0   \n",
       "4        0        1   0.000000              3535           21037         238   \n",
       "\n",
       "   to_major  is_faculty  is_gender        d0  ...       d59        d6  \\\n",
       "0       294           1          1  0.586327  ...  0.080709  0.663903   \n",
       "1        60           1          1  1.556291  ...  2.682853 -0.022940   \n",
       "2        39           1          1 -0.649554  ...  6.857399 -0.348564   \n",
       "3        40           0          0  3.757138  ...  5.611234 -1.006211   \n",
       "4       271           1          1  1.290842  ...  0.824280  0.429348   \n",
       "\n",
       "        d60       d61       d62       d63         d7        d8        d9  \\\n",
       "0  0.521325 -1.218457  0.572862  8.867662   0.098672  0.072862  1.136375   \n",
       "1 -0.371618 -0.987022  1.831474 -0.448014   1.167990  2.401762  0.431279   \n",
       "2  2.753245 -0.207652  1.892210 -0.977367  11.321891  2.510515  2.910005   \n",
       "3 -1.872412 -0.861397  0.114388 -1.096610  -4.892152 -3.294941  0.133597   \n",
       "4  2.083774  0.281935 -1.777484  0.258835   0.234619 -0.287869  2.079238   \n",
       "\n",
       "   label  \n",
       "0      0  \n",
       "1      0  \n",
       "2      1  \n",
       "3      0  \n",
       "4      0  \n",
       "\n",
       "[5 rows x 74 columns]"
      ]
     },
     "execution_count": 2,
     "metadata": {},
     "output_type": "execute_result"
    }
   ],
   "source": [
    "path = './data/'\n",
    "emb_data_train = pd.read_csv('./data/node2vec_v2_train.csv.gz',compression = 'gzip',sep='\\t')\n",
    "emb_data_test = pd.read_csv('./data/node2vec_v2_test.csv.gz',compression = 'gzip',sep='\\t')\n",
    "emb_data_train= emb_data_train.drop(columns=['Unnamed: 0'])\n",
    "emb_data_test= emb_data_test.drop(columns=['Unnamed: 0'])\n",
    "emb_data_train.head()"
   ]
  },
  {
   "cell_type": "code",
   "execution_count": 3,
   "metadata": {},
   "outputs": [
    {
     "data": {
      "text/plain": [
       "MinMaxScaler(copy=True, feature_range=(0, 1))"
      ]
     },
     "execution_count": 3,
     "metadata": {},
     "output_type": "execute_result"
    }
   ],
   "source": [
    "cols = [\"is_dorm\",\"is_year\",\"year_diff\", \"from_high_school\",\n",
    "            \"to_high_school\", \"from_major\", \"to_major\", \"is_faculty\",\n",
    "            \"is_gender\",'label']\n",
    "X =  emb_data_train.drop(columns=cols).values\n",
    "y = emb_data_train['label'].values\n",
    "\n",
    "scaler = MinMaxScaler(feature_range = (0,1))\n",
    "scaler.fit(X)\n",
    "X = scaler.transform(X)"
   ]
  },
  {
   "cell_type": "code",
   "execution_count": 7,
   "metadata": {},
   "outputs": [],
   "source": [
    "# Create the parameter grid based on the results of random search \n",
    "param_grid = {\n",
    "    'bootstrap': [True],\n",
    "    'max_depth': [50, 75, 100],\n",
    "    'max_features': [2, 3],\n",
    "    'min_samples_leaf': [3, 5],\n",
    "    'min_samples_split': [8, 10, 12],\n",
    "    'n_estimators': [100, 200, 300]\n",
    "}"
   ]
  },
  {
   "cell_type": "code",
   "execution_count": 8,
   "metadata": {},
   "outputs": [],
   "source": [
    "'''\n",
    "# Create a based model\n",
    "rf = RandomForestClassifier()\n",
    "# Instantiate the grid search model\n",
    "grid_search = GridSearchCV(estimator = rf, param_grid = param_grid, \n",
    "                          cv = 3, n_jobs = -1, verbose = 2)\n",
    "grid_search.fit(X, y)\n",
    "grid_search.best_params_\n",
    "'''"
   ]
  },
  {
   "cell_type": "code",
   "execution_count": 9,
   "metadata": {},
   "outputs": [
    {
     "name": "stdout",
     "output_type": "stream",
     "text": [
      "Fitting 3 folds for each of 108 candidates, totalling 324 fits\n"
     ]
    },
    {
     "name": "stderr",
     "output_type": "stream",
     "text": [
      "[Parallel(n_jobs=-1)]: Using backend LokyBackend with 8 concurrent workers.\n",
      "[Parallel(n_jobs=-1)]: Done  25 tasks      | elapsed:  3.7min\n",
      "[Parallel(n_jobs=-1)]: Done 146 tasks      | elapsed: 21.4min\n",
      "[Parallel(n_jobs=-1)]: Done 324 out of 324 | elapsed: 47.4min finished\n"
     ]
    },
    {
     "data": {
      "text/plain": [
       "GridSearchCV(cv=3, error_score=nan,\n",
       "             estimator=RandomForestClassifier(bootstrap=True, ccp_alpha=0.0,\n",
       "                                              class_weight=None,\n",
       "                                              criterion='gini', max_depth=None,\n",
       "                                              max_features='auto',\n",
       "                                              max_leaf_nodes=None,\n",
       "                                              max_samples=None,\n",
       "                                              min_impurity_decrease=0.0,\n",
       "                                              min_impurity_split=None,\n",
       "                                              min_samples_leaf=1,\n",
       "                                              min_samples_split=2,\n",
       "                                              min_weight_fraction_leaf=0.0,\n",
       "                                              n_estimators=100, n_jobs=None,\n",
       "                                              oob_score=False,\n",
       "                                              random_state=None, verbose=0,\n",
       "                                              warm_start=False),\n",
       "             iid='deprecated', n_jobs=-1,\n",
       "             param_grid={'bootstrap': [True], 'max_depth': [50, 75, 100],\n",
       "                         'max_features': [2, 3], 'min_samples_leaf': [3, 5],\n",
       "                         'min_samples_split': [8, 10, 12],\n",
       "                         'n_estimators': [100, 200, 300]},\n",
       "             pre_dispatch='2*n_jobs', refit=True, return_train_score=False,\n",
       "             scoring=None, verbose=2)"
      ]
     },
     "execution_count": 9,
     "metadata": {},
     "output_type": "execute_result"
    },
    {
     "data": {
      "text/plain": [
       "{'bootstrap': True,\n",
       " 'max_depth': 100,\n",
       " 'max_features': 2,\n",
       " 'min_samples_leaf': 3,\n",
       " 'min_samples_split': 10,\n",
       " 'n_estimators': 300}"
      ]
     },
     "execution_count": 9,
     "metadata": {},
     "output_type": "execute_result"
    }
   ],
   "source": []
  },
  {
   "cell_type": "code",
   "execution_count": 19,
   "metadata": {},
   "outputs": [],
   "source": [
    "params = {'bootstrap': True,\n",
    " 'max_depth': 1000,\n",
    " 'max_features': 2,\n",
    " 'min_samples_leaf': 3,\n",
    " 'min_samples_split': 10,\n",
    " 'n_estimators': 700}"
   ]
  },
  {
   "cell_type": "code",
   "execution_count": 20,
   "metadata": {},
   "outputs": [],
   "source": [
    "model = RandomForestClassifier(**params).fit(X,y)"
   ]
  },
  {
   "cell_type": "code",
   "execution_count": 21,
   "metadata": {},
   "outputs": [
    {
     "name": "stdout",
     "output_type": "stream",
     "text": [
      "[[8951 1421]\n",
      " [2102 8149]]\n",
      "              precision    recall  f1-score   support\n",
      "\n",
      "           0       0.81      0.86      0.84     10372\n",
      "           1       0.85      0.79      0.82     10251\n",
      "\n",
      "    accuracy                           0.83     20623\n",
      "   macro avg       0.83      0.83      0.83     20623\n",
      "weighted avg       0.83      0.83      0.83     20623\n",
      "\n",
      "ROC_AUC_SCORE: 0.909892643359731\n"
     ]
    }
   ],
   "source": [
    "X_test = emb_data_test.drop(columns=cols).values\n",
    "y_test = emb_data_test[['label']].values\n",
    "yhat = model.predict(X_test)\n",
    "print(confusion_matrix(y_test, yhat))\n",
    "print(classification_report(y_test, yhat))\n",
    "print('ROC_AUC_SCORE:', roc_auc_score(y_test, model.predict_proba(X_test)[:,1]))"
   ]
  },
  {
   "cell_type": "code",
   "execution_count": 23,
   "metadata": {},
   "outputs": [
    {
     "data": {
      "text/plain": [
       "MinMaxScaler(copy=True, feature_range=(0, 1))"
      ]
     },
     "execution_count": 23,
     "metadata": {},
     "output_type": "execute_result"
    },
    {
     "name": "stdout",
     "output_type": "stream",
     "text": [
      "[[8798 1574]\n",
      " [1783 8468]]\n",
      "              precision    recall  f1-score   support\n",
      "\n",
      "           0       0.83      0.85      0.84     10372\n",
      "           1       0.84      0.83      0.83     10251\n",
      "\n",
      "    accuracy                           0.84     20623\n",
      "   macro avg       0.84      0.84      0.84     20623\n",
      "weighted avg       0.84      0.84      0.84     20623\n",
      "\n",
      "ROC_AUC_SCORE: 0.914195648347195\n"
     ]
    }
   ],
   "source": [
    "cols = [\"year_diff\", \"from_high_school\",\n",
    "            \"to_high_school\", \"from_major\", \"to_major\", \"is_faculty\",\n",
    "            \"is_gender\",'label']\n",
    "X =  emb_data_train.drop(columns=cols).values\n",
    "y = emb_data_train['label'].values\n",
    "\n",
    "scaler = MinMaxScaler(feature_range = (0,1))\n",
    "scaler.fit(X)\n",
    "X = scaler.transform(X)\n",
    "model = RandomForestClassifier(**params).fit(X,y)\n",
    "X_test = emb_data_test.drop(columns=cols).values\n",
    "y_test = emb_data_test[['label']].values\n",
    "yhat = model.predict(X_test)\n",
    "print(confusion_matrix(y_test, yhat))\n",
    "print(classification_report(y_test, yhat))\n",
    "print('ROC_AUC_SCORE:', roc_auc_score(y_test, model.predict_proba(X_test)[:,1]))"
   ]
  },
  {
   "cell_type": "code",
   "execution_count": null,
   "metadata": {},
   "outputs": [],
   "source": []
  }
 ],
 "metadata": {
  "kernelspec": {
   "display_name": "Python [conda env:link-env] *",
   "language": "python",
   "name": "conda-env-link-env-py"
  },
  "language_info": {
   "codemirror_mode": {
    "name": "ipython",
    "version": 3
   },
   "file_extension": ".py",
   "mimetype": "text/x-python",
   "name": "python",
   "nbconvert_exporter": "python",
   "pygments_lexer": "ipython3",
   "version": "3.7.7"
  },
  "toc": {
   "base_numbering": 1,
   "nav_menu": {},
   "number_sections": true,
   "sideBar": true,
   "skip_h1_title": false,
   "title_cell": "Table of Contents",
   "title_sidebar": "Contents",
   "toc_cell": true,
   "toc_position": {},
   "toc_section_display": true,
   "toc_window_display": false
  }
 },
 "nbformat": 4,
 "nbformat_minor": 4
}
